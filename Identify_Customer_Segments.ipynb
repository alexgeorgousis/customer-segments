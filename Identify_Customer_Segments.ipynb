{
 "cells": [
  {
   "cell_type": "markdown",
   "metadata": {},
   "source": [
    "# Project: Identify Customer Segments\n",
    "\n",
    "In this project, you will apply unsupervised learning techniques to identify segments of the population that form the core customer base for a mail-order sales company in Germany. These segments can then be used to direct marketing campaigns towards audiences that will have the highest expected rate of returns. The data that you will use has been provided by our partners at Bertelsmann Arvato Analytics, and represents a real-life data science task.\n",
    "\n",
    "This notebook will help you complete this task by providing a framework within which you will perform your analysis steps. In each step of the project, you will see some text describing the subtask that you will perform, followed by one or more code cells for you to complete your work. **Feel free to add additional code and markdown cells as you go along so that you can explore everything in precise chunks.** The code cells provided in the base template will outline only the major tasks, and will usually not be enough to cover all of the minor tasks that comprise it.\n",
    "\n",
    "It should be noted that while there will be precise guidelines on how you should handle certain tasks in the project, there will also be places where an exact specification is not provided. **There will be times in the project where you will need to make and justify your own decisions on how to treat the data.** These are places where there may not be only one way to handle the data. In real-life tasks, there may be many valid ways to approach an analysis task. One of the most important things you can do is clearly document your approach so that other scientists can understand the decisions you've made.\n",
    "\n",
    "At the end of most sections, there will be a Markdown cell labeled **Discussion**. In these cells, you will report your findings for the completed section, as well as document the decisions that you made in your approach to each subtask. **Your project will be evaluated not just on the code used to complete the tasks outlined, but also your communication about your observations and conclusions at each stage.**"
   ]
  },
  {
   "cell_type": "markdown",
   "metadata": {},
   "source": [
    "#### 🟥Imports"
   ]
  },
  {
   "cell_type": "code",
   "execution_count": 3,
   "metadata": {},
   "outputs": [
    {
     "data": {
      "text/plain": [
       "'\\nImport note: The classroom currently uses sklearn version 0.19.\\nIf you need to use an imputer, it is available in sklearn.preprocessing.Imputer,\\ninstead of sklearn.impute as in newer versions of sklearn.\\n'"
      ]
     },
     "execution_count": 3,
     "metadata": {},
     "output_type": "execute_result"
    }
   ],
   "source": [
    "# import libraries here; add more as necessary\n",
    "import numpy as np\n",
    "import pandas as pd\n",
    "import matplotlib.pyplot as plt\n",
    "import seaborn as sns\n",
    "import time\n",
    "from sklearn.impute import SimpleImputer\n",
    "from sklearn.preprocessing import StandardScaler\n",
    "from sklearn.decomposition import PCA\n",
    "from sklearn.cluster import KMeans\n",
    "\n",
    "# magic word for producing visualizations in notebook\n",
    "%matplotlib inline\n",
    "\n",
    "'''\n",
    "Import note: The classroom currently uses sklearn version 0.19.\n",
    "If you need to use an imputer, it is available in sklearn.preprocessing.Imputer,\n",
    "instead of sklearn.impute as in newer versions of sklearn.\n",
    "'''"
   ]
  },
  {
   "cell_type": "markdown",
   "metadata": {},
   "source": [
    "### 🟥🟥🟥Step 0: Load the Data\n",
    "\n",
    "There are four files associated with this project (not including this one):\n",
    "\n",
    "- `Udacity_AZDIAS_Subset.csv`: Demographics data for the general population of Germany; 891211 persons (rows) x 85 features (columns).\n",
    "- `Udacity_CUSTOMERS_Subset.csv`: Demographics data for customers of a mail-order company; 191652 persons (rows) x 85 features (columns).\n",
    "- `Data_Dictionary.md`: Detailed information file about the features in the provided datasets.\n",
    "- `AZDIAS_Feature_Summary.csv`: Summary of feature attributes for demographics data; 85 features (rows) x 4 columns\n",
    "\n",
    "Each row of the demographics files represents a single person, but also includes information outside of individuals, including information about their household, building, and neighborhood. You will use this information to cluster the general population into groups with similar demographic properties. Then, you will see how the people in the customers dataset fit into those created clusters. The hope here is that certain clusters are over-represented in the customers data, as compared to the general population; those over-represented clusters will be assumed to be part of the core userbase. This information can then be used for further applications, such as targeting for a marketing campaign.\n",
    "\n",
    "To start off with, load in the demographics data for the general population into a pandas DataFrame, and do the same for the feature attributes summary. Note for all of the `.csv` data files in this project: they're semicolon (`;`) delimited, so you'll need an additional argument in your [`read_csv()`](https://pandas.pydata.org/pandas-docs/stable/generated/pandas.read_csv.html) call to read in the data properly. Also, considering the size of the main dataset, it may take some time for it to load completely.\n",
    "\n",
    "Once the dataset is loaded, it's recommended that you take a little bit of time just browsing the general structure of the dataset and feature summary file. You'll be getting deep into the innards of the cleaning in the first major step of the project, so gaining some general familiarity can help you get your bearings."
   ]
  },
  {
   "cell_type": "code",
   "execution_count": 4,
   "metadata": {},
   "outputs": [],
   "source": [
    "# Load in the general demographics data.\n",
    "azdias = pd.read_csv(\"data/Udacity_AZDIAS_Subset.csv\", delimiter=\";\")\n",
    "\n",
    "# Load in the feature summary file.\n",
    "feat_info = pd.read_csv(\"data/AZDIAS_Feature_Summary.csv\", delimiter=\";\")"
   ]
  },
  {
   "cell_type": "code",
   "execution_count": 6,
   "metadata": {},
   "outputs": [
    {
     "data": {
      "text/html": [
       "<div>\n",
       "<style scoped>\n",
       "    .dataframe tbody tr th:only-of-type {\n",
       "        vertical-align: middle;\n",
       "    }\n",
       "\n",
       "    .dataframe tbody tr th {\n",
       "        vertical-align: top;\n",
       "    }\n",
       "\n",
       "    .dataframe thead th {\n",
       "        text-align: right;\n",
       "    }\n",
       "</style>\n",
       "<table border=\"1\" class=\"dataframe\">\n",
       "  <thead>\n",
       "    <tr style=\"text-align: right;\">\n",
       "      <th></th>\n",
       "      <th>AGER_TYP</th>\n",
       "      <th>ALTERSKATEGORIE_GROB</th>\n",
       "      <th>ANREDE_KZ</th>\n",
       "      <th>CJT_GESAMTTYP</th>\n",
       "      <th>FINANZ_MINIMALIST</th>\n",
       "      <th>FINANZ_SPARER</th>\n",
       "      <th>FINANZ_VORSORGER</th>\n",
       "      <th>FINANZ_ANLEGER</th>\n",
       "      <th>FINANZ_UNAUFFAELLIGER</th>\n",
       "      <th>FINANZ_HAUSBAUER</th>\n",
       "      <th>...</th>\n",
       "      <th>PLZ8_ANTG1</th>\n",
       "      <th>PLZ8_ANTG2</th>\n",
       "      <th>PLZ8_ANTG3</th>\n",
       "      <th>PLZ8_ANTG4</th>\n",
       "      <th>PLZ8_BAUMAX</th>\n",
       "      <th>PLZ8_HHZ</th>\n",
       "      <th>PLZ8_GBZ</th>\n",
       "      <th>ARBEIT</th>\n",
       "      <th>ORTSGR_KLS9</th>\n",
       "      <th>RELAT_AB</th>\n",
       "    </tr>\n",
       "  </thead>\n",
       "  <tbody>\n",
       "    <tr>\n",
       "      <th>0</th>\n",
       "      <td>-1</td>\n",
       "      <td>2</td>\n",
       "      <td>1</td>\n",
       "      <td>2.0</td>\n",
       "      <td>3</td>\n",
       "      <td>4</td>\n",
       "      <td>3</td>\n",
       "      <td>5</td>\n",
       "      <td>5</td>\n",
       "      <td>3</td>\n",
       "      <td>...</td>\n",
       "      <td>NaN</td>\n",
       "      <td>NaN</td>\n",
       "      <td>NaN</td>\n",
       "      <td>NaN</td>\n",
       "      <td>NaN</td>\n",
       "      <td>NaN</td>\n",
       "      <td>NaN</td>\n",
       "      <td>NaN</td>\n",
       "      <td>NaN</td>\n",
       "      <td>NaN</td>\n",
       "    </tr>\n",
       "    <tr>\n",
       "      <th>1</th>\n",
       "      <td>-1</td>\n",
       "      <td>1</td>\n",
       "      <td>2</td>\n",
       "      <td>5.0</td>\n",
       "      <td>1</td>\n",
       "      <td>5</td>\n",
       "      <td>2</td>\n",
       "      <td>5</td>\n",
       "      <td>4</td>\n",
       "      <td>5</td>\n",
       "      <td>...</td>\n",
       "      <td>2.0</td>\n",
       "      <td>3.0</td>\n",
       "      <td>2.0</td>\n",
       "      <td>1.0</td>\n",
       "      <td>1.0</td>\n",
       "      <td>5.0</td>\n",
       "      <td>4.0</td>\n",
       "      <td>3.0</td>\n",
       "      <td>5.0</td>\n",
       "      <td>4.0</td>\n",
       "    </tr>\n",
       "    <tr>\n",
       "      <th>2</th>\n",
       "      <td>-1</td>\n",
       "      <td>3</td>\n",
       "      <td>2</td>\n",
       "      <td>3.0</td>\n",
       "      <td>1</td>\n",
       "      <td>4</td>\n",
       "      <td>1</td>\n",
       "      <td>2</td>\n",
       "      <td>3</td>\n",
       "      <td>5</td>\n",
       "      <td>...</td>\n",
       "      <td>3.0</td>\n",
       "      <td>3.0</td>\n",
       "      <td>1.0</td>\n",
       "      <td>0.0</td>\n",
       "      <td>1.0</td>\n",
       "      <td>4.0</td>\n",
       "      <td>4.0</td>\n",
       "      <td>3.0</td>\n",
       "      <td>5.0</td>\n",
       "      <td>2.0</td>\n",
       "    </tr>\n",
       "  </tbody>\n",
       "</table>\n",
       "<p>3 rows × 85 columns</p>\n",
       "</div>"
      ],
      "text/plain": [
       "   AGER_TYP  ALTERSKATEGORIE_GROB  ANREDE_KZ  CJT_GESAMTTYP  \\\n",
       "0        -1                     2          1            2.0   \n",
       "1        -1                     1          2            5.0   \n",
       "2        -1                     3          2            3.0   \n",
       "\n",
       "   FINANZ_MINIMALIST  FINANZ_SPARER  FINANZ_VORSORGER  FINANZ_ANLEGER  \\\n",
       "0                  3              4                 3               5   \n",
       "1                  1              5                 2               5   \n",
       "2                  1              4                 1               2   \n",
       "\n",
       "   FINANZ_UNAUFFAELLIGER  FINANZ_HAUSBAUER  ...  PLZ8_ANTG1  PLZ8_ANTG2  \\\n",
       "0                      5                 3  ...         NaN         NaN   \n",
       "1                      4                 5  ...         2.0         3.0   \n",
       "2                      3                 5  ...         3.0         3.0   \n",
       "\n",
       "   PLZ8_ANTG3  PLZ8_ANTG4  PLZ8_BAUMAX  PLZ8_HHZ  PLZ8_GBZ  ARBEIT  \\\n",
       "0         NaN         NaN          NaN       NaN       NaN     NaN   \n",
       "1         2.0         1.0          1.0       5.0       4.0     3.0   \n",
       "2         1.0         0.0          1.0       4.0       4.0     3.0   \n",
       "\n",
       "   ORTSGR_KLS9  RELAT_AB  \n",
       "0          NaN       NaN  \n",
       "1          5.0       4.0  \n",
       "2          5.0       2.0  \n",
       "\n",
       "[3 rows x 85 columns]"
      ]
     },
     "metadata": {},
     "output_type": "display_data"
    },
    {
     "name": "stdout",
     "output_type": "stream",
     "text": [
      "Number of rows: 891221\n"
     ]
    },
    {
     "data": {
      "text/html": [
       "<div>\n",
       "<style scoped>\n",
       "    .dataframe tbody tr th:only-of-type {\n",
       "        vertical-align: middle;\n",
       "    }\n",
       "\n",
       "    .dataframe tbody tr th {\n",
       "        vertical-align: top;\n",
       "    }\n",
       "\n",
       "    .dataframe thead th {\n",
       "        text-align: right;\n",
       "    }\n",
       "</style>\n",
       "<table border=\"1\" class=\"dataframe\">\n",
       "  <thead>\n",
       "    <tr style=\"text-align: right;\">\n",
       "      <th></th>\n",
       "      <th>attribute</th>\n",
       "      <th>information_level</th>\n",
       "      <th>type</th>\n",
       "      <th>missing_or_unknown</th>\n",
       "    </tr>\n",
       "  </thead>\n",
       "  <tbody>\n",
       "    <tr>\n",
       "      <th>0</th>\n",
       "      <td>AGER_TYP</td>\n",
       "      <td>person</td>\n",
       "      <td>categorical</td>\n",
       "      <td>[-1,0]</td>\n",
       "    </tr>\n",
       "    <tr>\n",
       "      <th>1</th>\n",
       "      <td>ALTERSKATEGORIE_GROB</td>\n",
       "      <td>person</td>\n",
       "      <td>ordinal</td>\n",
       "      <td>[-1,0,9]</td>\n",
       "    </tr>\n",
       "    <tr>\n",
       "      <th>2</th>\n",
       "      <td>ANREDE_KZ</td>\n",
       "      <td>person</td>\n",
       "      <td>categorical</td>\n",
       "      <td>[-1,0]</td>\n",
       "    </tr>\n",
       "  </tbody>\n",
       "</table>\n",
       "</div>"
      ],
      "text/plain": [
       "              attribute information_level         type missing_or_unknown\n",
       "0              AGER_TYP            person  categorical             [-1,0]\n",
       "1  ALTERSKATEGORIE_GROB            person      ordinal           [-1,0,9]\n",
       "2             ANREDE_KZ            person  categorical             [-1,0]"
      ]
     },
     "metadata": {},
     "output_type": "display_data"
    }
   ],
   "source": [
    "# Check the structure of the data after it's loaded (e.g. print the number of\n",
    "# rows and columns, print the first few rows).\n",
    "display(azdias.head(n=3))\n",
    "print(\"Number of rows: {}\".format(azdias.shape[0]))\n",
    "\n",
    "display(feat_info.head(n=3))"
   ]
  },
  {
   "cell_type": "markdown",
   "metadata": {},
   "source": [
    "## 🟥🟥🟥Step 1: Preprocessing\n",
    "\n",
    "### 🟥🟥Step 1.1: Assess Missing Data\n",
    "\n",
    "The feature summary file contains a summary of properties for each demographics data column. You will use this file to help you make cleaning decisions during this stage of the project. First of all, you should assess the demographics data in terms of missing data. Pay attention to the following points as you perform your analysis, and take notes on what you observe. Make sure that you fill in the **Discussion** cell with your findings and decisions at the end of each step that has one!\n",
    "\n",
    "#### 🟥Step 1.1.1: Convert Missing Value Codes to NaNs\n",
    "The fourth column of the feature attributes summary (loaded in above as `feat_info`) documents the codes from the data dictionary that indicate missing or unknown data. While the file encodes this as a list (e.g. `[-1,0]`), this will get read in as a string object. You'll need to do a little bit of parsing to make use of it to identify and clean the data. Convert data that matches a 'missing' or 'unknown' value code into a numpy NaN value. You might want to see how much data takes on a 'missing' or 'unknown' code, and how much data is naturally missing, as a point of interest."
   ]
  },
  {
   "cell_type": "code",
   "execution_count": 7,
   "metadata": {},
   "outputs": [],
   "source": [
    "def encode_miss_values(column):\n",
    "    \"\"\"\n",
    "    Helper method used to replace encodings of missing values in a column with the NaN value.\n",
    "    For each value in the column: \n",
    "        If the value encodes a missing value, return NaN.\n",
    "        Else, return the value as-is.\n",
    "\n",
    "    :column: column to encode \n",
    "    \"\"\"\n",
    "    \n",
    "    # Extract the list of encodings (as a string) for this feature from the feature info dataset\n",
    "    encodings = list(feat_info[feat_info[\"attribute\"] == column.name][\"missing_or_unknown\"])[0]\n",
    "    \n",
    "    # Parse string to turn into list of encoding values\n",
    "    encodings = encodings.replace(\"[\", \"\").replace(\"]\", \"\").split(',')\n",
    "    \n",
    "    # Replace every missing value in this feature with Numpy's NaN value\n",
    "    return column.apply(lambda x: np.NaN if str(x) in encodings else x)"
   ]
  },
  {
   "cell_type": "code",
   "execution_count": 8,
   "metadata": {},
   "outputs": [],
   "source": [
    "# Replace every missing value encoding in every column with NaN\n",
    "azdias_clean = azdias.apply(encode_miss_values)"
   ]
  },
  {
   "cell_type": "markdown",
   "metadata": {},
   "source": [
    "#### 🟥Step 1.1.2: Assess Missing Data in Each Column\n",
    "\n",
    "How much missing data is present in each column? There are a few columns that are outliers in terms of the proportion of values that are missing. You will want to use matplotlib's [`hist()`](https://matplotlib.org/api/_as_gen/matplotlib.pyplot.hist.html) function to visualize the distribution of missing value counts to find these columns. Identify and document these columns. While some of these columns might have justifications for keeping or re-encoding the data, for this project you should just remove them from the dataframe. (Feel free to make remarks about these outlier columns in the discussion, however!)\n",
    "\n",
    "For the remaining features, are there any patterns in which columns have, or share, missing data?"
   ]
  },
  {
   "cell_type": "code",
   "execution_count": 6,
   "metadata": {},
   "outputs": [
    {
     "data": {
      "image/png": "[encoded data removed]",
      "text/plain": [
       "<Figure size 432x288 with 1 Axes>"
      ]
     },
     "metadata": {
      "needs_background": "light"
     },
     "output_type": "display_data"
    }
   ],
   "source": [
    "# Plot histogram of missing values to identify outliers.\n",
    "nan_counts = azdias_clean.isna().sum()\n",
    "n, bins, patches = plt.hist(nan_counts, bins=50)\n",
    "plt.xlabel(\"NaN count (columns)\")\n",
    "plt.show()"
   ]
  },
  {
   "cell_type": "code",
   "execution_count": 8,
   "metadata": {},
   "outputs": [
    {
     "data": {
      "text/plain": [
       "AGER_TYP        685843\n",
       "GEBURTSJAHR     392318\n",
       "KK_KUNDENTYP    584612\n",
       "Name: Outliers, dtype: int64"
      ]
     },
     "metadata": {},
     "output_type": "display_data"
    }
   ],
   "source": [
    "# Find the 3 outliers and print their names and missing value counts.\n",
    "outliers = {feat : nan_counts[feat] for feat in nan_counts.index if nan_counts[feat] > 300000}\n",
    "display(pd.Series(outliers, name=\"Outliers\"))"
   ]
  },
  {
   "cell_type": "code",
   "execution_count": 10,
   "metadata": {},
   "outputs": [],
   "source": [
    "# Remove the outlier columns from the dataset. You'll perform other data engineering tasks such as re-encoding and imputation later.\n",
    "\n",
    "azdias_clean.drop(columns=outliers.keys(), inplace=True)\n",
    "feat_info = feat_info[feat_info[\"attribute\"] != list(outliers.keys())[0]]\n",
    "feat_info = feat_info[feat_info[\"attribute\"] != list(outliers.keys())[1]]\n",
    "feat_info = feat_info[feat_info[\"attribute\"] != list(outliers.keys())[2]]"
   ]
  },
  {
   "cell_type": "code",
   "execution_count": 11,
   "metadata": {},
   "outputs": [
    {
     "name": "stdout",
     "output_type": "stream",
     "text": [
      "Remaining features (dataset): 82\n",
      "Remaining features (feature info): 82\n"
     ]
    }
   ],
   "source": [
    "# Check that we only have 82 features remaining\n",
    "print(\"Remaining features (dataset): {}\".format(azdias_clean.shape[1]))\n",
    "print(\"Remaining features (feature info): {}\".format(feat_info.shape[0]))"
   ]
  },
  {
   "cell_type": "code",
   "execution_count": 12,
   "metadata": {},
   "outputs": [],
   "source": [
    "# TODO: Find patterns in the missing data\n",
    "\n",
    "# Idea for pattern: plot covariance matrix of the cluster of features around 100000 to see if features that have the same number of missing values are also highly correlated (idk, just an idea)"
   ]
  },
  {
   "cell_type": "markdown",
   "metadata": {},
   "source": [
    "#### 🟧Discussion 1.1.2: Assess Missing Data in Each Column\n",
    "(Double click this cell and replace this text with your own text, reporting your observations regarding the amount of missing data in each column. Are there any patterns in missing values? Which columns were removed from the dataset?)\n",
    "\n",
    "From the histogram above, we can identify 3 groups of features in the distribution of missing values. First, we can see there are around 35 features that have 0 or close to 0 missing values. Then, we can see a cluster of features with a relatively symmetric distribution of missing values, centered at 100K missing values. Finally, we can see 3 outliers with approximately 400K, 600K, and 700K missing values. At closer inspection, these features turn out to be GEBURTSJAHR (year of birth), KK_KUNDENTYP (consumer pattern), and AGER_TYP (age typology) respectively. Those features were removed from the dataset."
   ]
  },
  {
   "cell_type": "markdown",
   "metadata": {},
   "source": [
    "#### 🟥Step 1.1.3: Assess Missing Data in Each Row\n",
    "\n",
    "Now, you'll perform a similar assessment for the rows of the dataset. How much data is missing in each row? As with the columns, you should see some groups of points that have a very different number of missing values. Divide the data into two subsets: one for data points that are above some threshold for missing values, and a second subset for points below that threshold.\n",
    "\n",
    "In order to know what to do with the outlier rows, we should see if the distribution of data values on columns that are not missing data (or are missing very little data) are similar or different between the two groups. Select at least five of these columns and compare the distribution of values.\n",
    "- You can use seaborn's [`countplot()`](https://seaborn.pydata.org/generated/seaborn.countplot.html) function to create a bar chart of code frequencies and matplotlib's [`subplot()`](https://matplotlib.org/api/_as_gen/matplotlib.pyplot.subplot.html) function to put bar charts for the two subplots side by side.\n",
    "- To reduce repeated code, you might want to write a function that can perform this comparison, taking as one of its arguments a column to be compared.\n",
    "\n",
    "Depending on what you observe in your comparison, this will have implications on how you approach your conclusions later in the analysis. If the distributions of non-missing features look similar between the data with many missing values and the data with few or no missing values, then we could argue that simply dropping those points from the analysis won't present a major issue. On the other hand, if the data with many missing values looks very different from the data with few or no missing values, then we should make a note on those data as special. We'll revisit these data later on. **Either way, you should continue your analysis for now using just the subset of the data with few or no missing values.**"
   ]
  },
  {
   "cell_type": "code",
   "execution_count": 13,
   "metadata": {},
   "outputs": [
    {
     "data": {
      "image/png": "[encoded data removed]",
      "text/plain": [
       "<Figure size 432x288 with 1 Axes>"
      ]
     },
     "metadata": {
      "needs_background": "light"
     },
     "output_type": "display_data"
    }
   ],
   "source": [
    "# How much data is missing in each row of the dataset?\n",
    "nan_counts_rows = azdias_clean.isna().sum(axis=1)\n",
    "n, bins, patches = plt.hist(nan_counts_rows, bins=20)\n",
    "plt.xlabel(\"NaN count (rows)\")\n",
    "plt.show()"
   ]
  },
  {
   "cell_type": "code",
   "execution_count": 14,
   "metadata": {},
   "outputs": [
    {
     "name": "stderr",
     "output_type": "stream",
     "text": [
      "/home/alex/miniconda3/envs/udacity/lib/python3.8/site-packages/pandas/core/frame.py:3990: SettingWithCopyWarning: \n",
      "A value is trying to be set on a copy of a slice from a DataFrame\n",
      "\n",
      "See the caveats in the documentation: https://pandas.pydata.org/pandas-docs/stable/user_guide/indexing.html#returning-a-view-versus-a-copy\n",
      "  return super().drop(\n"
     ]
    }
   ],
   "source": [
    "# Write code to divide the data into two subsets based on the number of missing values in each row.\n",
    "\n",
    "threshold = 25\n",
    "\n",
    "# Add the number of missing values in each row as a column in the dataset\n",
    "azdias_clean[\"nan_count\"] = nan_counts_rows\n",
    "\n",
    "# Split dataset based on NaN count threshold\n",
    "above_thresh = azdias_clean[azdias_clean[\"nan_count\"] > 25]\n",
    "below_thresh = azdias_clean[azdias_clean[\"nan_count\"] <= 25]\n",
    "\n",
    "# Remove NaN count column from all 3 datasets\n",
    "azdias_clean.drop(columns=[\"nan_count\"], inplace=True)\n",
    "below_thresh.drop(columns=[\"nan_count\"], inplace=True)\n",
    "above_thresh.drop(columns=[\"nan_count\"], inplace=True)"
   ]
  },
  {
   "cell_type": "code",
   "execution_count": 27,
   "metadata": {},
   "outputs": [],
   "source": [
    "def compare_dists(column):\n",
    "    \"\"\"\n",
    "    Given a column with 0 (or close to 0) missing values.\n",
    "    Split the column into two subsets: \n",
    "        one contains values that belong to rows with many missing values\n",
    "        and the other values that belong to rows with very few (or no) missing values.\n",
    "    Plot the two subsets to compare them.\n",
    "    \n",
    "    :column: column with few missing values to split and compare\n",
    "    \"\"\"\n",
    "    \n",
    "    # Split column into the two subsets usign globals 'above_thresh' and 'below_thresh'\n",
    "    sub1 = pd.DataFrame(column[below_thresh.index.values].rename(\"No Missing Values\"))\n",
    "    sub2 = pd.DataFrame(column[above_thresh.index.values].rename(\"Missing Values\"))\n",
    "    \n",
    "    # Plot frequency distributions of the two subsets\n",
    "    fig, ax = plt.subplots(1, 2)\n",
    "    sns.barplot(x=\"No Missing Values\", y=\"No Missing Values\", data=sub1, ax=ax[0], estimator=lambda x: len(x) / len(sub1)*100)\n",
    "    sns.barplot(x=\"Missing Values\", y=\"Missing Values\", data=sub2, ax=ax[1], estimator=lambda x: len(x) / len(sub2)*100)\n",
    "    \n",
    "    ax[0].set_yticks(np.arange(0, 101, 20))\n",
    "    ax[1].set_yticks(np.arange(0, 101, 20))\n",
    "    \n",
    "    ax[0].set(ylabel=\"percent (%)\")\n",
    "    ax[1].set(ylabel=\"percent (%)\")\n",
    "    \n",
    "    fig.suptitle(column.name)\n",
    "    fig.tight_layout(pad=3.0)\n",
    "    fig.show()"
   ]
  },
  {
   "cell_type": "code",
   "execution_count": 28,
   "metadata": {},
   "outputs": [
    {
     "data": {
      "image/png": "[encoded data removed]",
      "text/plain": [
       "<Figure size 432x288 with 2 Axes>"
      ]
     },
     "metadata": {
      "needs_background": "light"
     },
     "output_type": "display_data"
    },
    {
     "data": {
      "image/png": "[encoded data removed]",
      "text/plain": [
       "<Figure size 432x288 with 2 Axes>"
      ]
     },
     "metadata": {
      "needs_background": "light"
     },
     "output_type": "display_data"
    },
    {
     "data": {
      "image/png": "[encoded data removed]",
      "text/plain": [
       "<Figure size 432x288 with 2 Axes>"
      ]
     },
     "metadata": {
      "needs_background": "light"
     },
     "output_type": "display_data"
    },
    {
     "data": {
      "image/png": "[encoded data removed]",
      "text/plain": [
       "<Figure size 432x288 with 2 Axes>"
      ]
     },
     "metadata": {
      "needs_background": "light"
     },
     "output_type": "display_data"
    },
    {
     "data": {
      "image/png": "[encoded data removed]",
      "text/plain": [
       "<Figure size 432x288 with 2 Axes>"
      ]
     },
     "metadata": {
      "needs_background": "light"
     },
     "output_type": "display_data"
    }
   ],
   "source": [
    "compare_dists(azdias_clean[\"ANREDE_KZ\"])\n",
    "compare_dists(azdias_clean[\"FINANZ_MINIMALIST\"])\n",
    "compare_dists(azdias_clean[\"GREEN_AVANTGARDE\"])\n",
    "compare_dists(azdias_clean[\"SEMIO_SOZ\"])\n",
    "compare_dists(azdias_clean[\"ZABEOTYP\"])"
   ]
  },
  {
   "cell_type": "markdown",
   "metadata": {},
   "source": [
    "#### 🟧Discussion 1.1.3: Assess Missing Data in Each Row\n",
    "\n",
    "(Double-click this cell and replace this text with your own text, reporting your observations regarding missing data in rows. Are the data with lots of missing values qualitatively different from data with few or no missing values?)\n",
    "\n",
    "From the histogram above, we can see that most rows have 0 or close to 0 missing values (similar pattern to the columns). Then, there is a group of rows that have up to, roughly, 25 missing values. Finally, there are two outlier groups, one between 30-40 and another between 40-50. Therefore, 25 seems like a good threshold to divide the data into the two subsets.\n",
    "\n",
    "From the bar charts comparing 5 features with 0 missing values, we can see that most of them (apart from the first one) have very different distributions depending on whether the values belong to rows with missing values or not. Therefore, dropping the rows with many missing values could lead to loss of important information."
   ]
  },
  {
   "cell_type": "markdown",
   "metadata": {},
   "source": [
    "### 🟥🟥Step 1.2: Select and Re-Encode Features\n",
    "\n",
    "Checking for missing data isn't the only way in which you can prepare a dataset for analysis. Since the unsupervised learning techniques to be used will only work on data that is encoded numerically, you need to make a few encoding changes or additional assumptions to be able to make progress. In addition, while almost all of the values in the dataset are encoded using numbers, not all of them represent numeric values. Check the third column of the feature summary (`feat_info`) for a summary of types of measurement.\n",
    "- For numeric and interval data, these features can be kept without changes.\n",
    "- Most of the variables in the dataset are ordinal in nature. While ordinal values may technically be non-linear in spacing, make the simplifying assumption that the ordinal variables can be treated as being interval in nature (that is, kept without any changes).\n",
    "- Special handling may be necessary for the remaining two variable types: categorical, and 'mixed'.\n",
    "\n",
    "In the first two parts of this sub-step, you will perform an investigation of the categorical and mixed-type features and make a decision on each of them, whether you will keep, drop, or re-encode each. Then, in the last part, you will create a new data frame with only the selected and engineered columns.\n",
    "\n",
    "Data wrangling is often the trickiest part of the data analysis process, and there's a lot of it to be done here. But stick with it: once you're done with this step, you'll be ready to get to the machine learning parts of the project!"
   ]
  },
  {
   "cell_type": "code",
   "execution_count": 29,
   "metadata": {},
   "outputs": [
    {
     "data": {
      "text/html": [
       "<div>\n",
       "<style scoped>\n",
       "    .dataframe tbody tr th:only-of-type {\n",
       "        vertical-align: middle;\n",
       "    }\n",
       "\n",
       "    .dataframe tbody tr th {\n",
       "        vertical-align: top;\n",
       "    }\n",
       "\n",
       "    .dataframe thead th {\n",
       "        text-align: right;\n",
       "    }\n",
       "</style>\n",
       "<table border=\"1\" class=\"dataframe\">\n",
       "  <thead>\n",
       "    <tr style=\"text-align: right;\">\n",
       "      <th></th>\n",
       "      <th>Types</th>\n",
       "      <th>Counts</th>\n",
       "    </tr>\n",
       "  </thead>\n",
       "  <tbody>\n",
       "    <tr>\n",
       "      <th>0</th>\n",
       "      <td>numeric</td>\n",
       "      <td>6</td>\n",
       "    </tr>\n",
       "    <tr>\n",
       "      <th>1</th>\n",
       "      <td>interval</td>\n",
       "      <td>1</td>\n",
       "    </tr>\n",
       "    <tr>\n",
       "      <th>2</th>\n",
       "      <td>ordinal</td>\n",
       "      <td>49</td>\n",
       "    </tr>\n",
       "    <tr>\n",
       "      <th>3</th>\n",
       "      <td>categorical</td>\n",
       "      <td>19</td>\n",
       "    </tr>\n",
       "    <tr>\n",
       "      <th>4</th>\n",
       "      <td>mixed</td>\n",
       "      <td>7</td>\n",
       "    </tr>\n",
       "  </tbody>\n",
       "</table>\n",
       "</div>"
      ],
      "text/plain": [
       "         Types  Counts\n",
       "0      numeric       6\n",
       "1     interval       1\n",
       "2      ordinal      49\n",
       "3  categorical      19\n",
       "4        mixed       7"
      ]
     },
     "metadata": {},
     "output_type": "display_data"
    }
   ],
   "source": [
    "# How many features are there of each data type?\n",
    "feat_type = feat_info[\"type\"]\n",
    "\n",
    "types = [\"numeric\", \"interval\", \"ordinal\", \"categorical\", \"mixed\"]\n",
    "type_counts = [feat_type[feat_type == t].size for t in types]\n",
    "\n",
    "types_dict = {\"Types\": pd.Series(data=types), \"Counts\": pd.Series(data=type_counts)}\n",
    "types_df = pd.DataFrame(types_dict)\n",
    "\n",
    "display(types_df)"
   ]
  },
  {
   "cell_type": "markdown",
   "metadata": {},
   "source": [
    "#### 🟥Step 1.2.1: Re-Encode Categorical Features\n",
    "\n",
    "For categorical data, you would ordinarily need to encode the levels as dummy variables. Depending on the number of categories, perform one of the following:\n",
    "- For binary (two-level) categoricals that take numeric values, you can keep them without needing to do anything.\n",
    "- There is one binary variable that takes on non-numeric values. For this one, you need to re-encode the values as numbers or create a dummy variable.\n",
    "- For multi-level categoricals (three or more values), you can choose to encode the values using multiple dummy variables (e.g. via [OneHotEncoder](http://scikit-learn.org/stable/modules/generated/sklearn.preprocessing.OneHotEncoder.html)), or (to keep things straightforward) just drop them from the analysis. As always, document your choices in the Discussion section."
   ]
  },
  {
   "cell_type": "code",
   "execution_count": 30,
   "metadata": {},
   "outputs": [],
   "source": [
    "categorical = below_thresh[feat_info[feat_info[\"type\"] == \"categorical\"][\"attribute\"].values]"
   ]
  },
  {
   "cell_type": "code",
   "execution_count": 31,
   "metadata": {},
   "outputs": [
    {
     "data": {
      "text/html": [
       "<div>\n",
       "<style scoped>\n",
       "    .dataframe tbody tr th:only-of-type {\n",
       "        vertical-align: middle;\n",
       "    }\n",
       "\n",
       "    .dataframe tbody tr th {\n",
       "        vertical-align: top;\n",
       "    }\n",
       "\n",
       "    .dataframe thead th {\n",
       "        text-align: right;\n",
       "    }\n",
       "</style>\n",
       "<table border=\"1\" class=\"dataframe\">\n",
       "  <thead>\n",
       "    <tr style=\"text-align: right;\">\n",
       "      <th></th>\n",
       "      <th>Name</th>\n",
       "      <th>Unique Values</th>\n",
       "    </tr>\n",
       "  </thead>\n",
       "  <tbody>\n",
       "    <tr>\n",
       "      <th>0</th>\n",
       "      <td>ANREDE_KZ</td>\n",
       "      <td>2</td>\n",
       "    </tr>\n",
       "    <tr>\n",
       "      <th>1</th>\n",
       "      <td>CJT_GESAMTTYP</td>\n",
       "      <td>6</td>\n",
       "    </tr>\n",
       "    <tr>\n",
       "      <th>2</th>\n",
       "      <td>FINANZTYP</td>\n",
       "      <td>6</td>\n",
       "    </tr>\n",
       "    <tr>\n",
       "      <th>3</th>\n",
       "      <td>GFK_URLAUBERTYP</td>\n",
       "      <td>12</td>\n",
       "    </tr>\n",
       "    <tr>\n",
       "      <th>4</th>\n",
       "      <td>GREEN_AVANTGARDE</td>\n",
       "      <td>2</td>\n",
       "    </tr>\n",
       "    <tr>\n",
       "      <th>5</th>\n",
       "      <td>LP_FAMILIE_FEIN</td>\n",
       "      <td>12</td>\n",
       "    </tr>\n",
       "    <tr>\n",
       "      <th>6</th>\n",
       "      <td>LP_FAMILIE_GROB</td>\n",
       "      <td>6</td>\n",
       "    </tr>\n",
       "    <tr>\n",
       "      <th>7</th>\n",
       "      <td>LP_STATUS_FEIN</td>\n",
       "      <td>10</td>\n",
       "    </tr>\n",
       "    <tr>\n",
       "      <th>8</th>\n",
       "      <td>LP_STATUS_GROB</td>\n",
       "      <td>5</td>\n",
       "    </tr>\n",
       "    <tr>\n",
       "      <th>9</th>\n",
       "      <td>NATIONALITAET_KZ</td>\n",
       "      <td>3</td>\n",
       "    </tr>\n",
       "    <tr>\n",
       "      <th>10</th>\n",
       "      <td>SHOPPER_TYP</td>\n",
       "      <td>4</td>\n",
       "    </tr>\n",
       "    <tr>\n",
       "      <th>11</th>\n",
       "      <td>SOHO_KZ</td>\n",
       "      <td>2</td>\n",
       "    </tr>\n",
       "    <tr>\n",
       "      <th>12</th>\n",
       "      <td>TITEL_KZ</td>\n",
       "      <td>6</td>\n",
       "    </tr>\n",
       "    <tr>\n",
       "      <th>13</th>\n",
       "      <td>VERS_TYP</td>\n",
       "      <td>2</td>\n",
       "    </tr>\n",
       "    <tr>\n",
       "      <th>14</th>\n",
       "      <td>ZABEOTYP</td>\n",
       "      <td>6</td>\n",
       "    </tr>\n",
       "    <tr>\n",
       "      <th>15</th>\n",
       "      <td>GEBAEUDETYP</td>\n",
       "      <td>7</td>\n",
       "    </tr>\n",
       "    <tr>\n",
       "      <th>16</th>\n",
       "      <td>OST_WEST_KZ</td>\n",
       "      <td>2</td>\n",
       "    </tr>\n",
       "    <tr>\n",
       "      <th>17</th>\n",
       "      <td>CAMEO_DEUG_2015</td>\n",
       "      <td>9</td>\n",
       "    </tr>\n",
       "    <tr>\n",
       "      <th>18</th>\n",
       "      <td>CAMEO_DEU_2015</td>\n",
       "      <td>44</td>\n",
       "    </tr>\n",
       "  </tbody>\n",
       "</table>\n",
       "</div>"
      ],
      "text/plain": [
       "                Name  Unique Values\n",
       "0          ANREDE_KZ              2\n",
       "1      CJT_GESAMTTYP              6\n",
       "2          FINANZTYP              6\n",
       "3    GFK_URLAUBERTYP             12\n",
       "4   GREEN_AVANTGARDE              2\n",
       "5    LP_FAMILIE_FEIN             12\n",
       "6    LP_FAMILIE_GROB              6\n",
       "7     LP_STATUS_FEIN             10\n",
       "8     LP_STATUS_GROB              5\n",
       "9   NATIONALITAET_KZ              3\n",
       "10       SHOPPER_TYP              4\n",
       "11           SOHO_KZ              2\n",
       "12          TITEL_KZ              6\n",
       "13          VERS_TYP              2\n",
       "14          ZABEOTYP              6\n",
       "15       GEBAEUDETYP              7\n",
       "16       OST_WEST_KZ              2\n",
       "17   CAMEO_DEUG_2015              9\n",
       "18    CAMEO_DEU_2015             44"
      ]
     },
     "metadata": {},
     "output_type": "display_data"
    }
   ],
   "source": [
    "# Assess categorical variables: which are binary, which are multi-level, and which one needs to be re-encoded?\n",
    "\n",
    "# Count the unique values in each column and put them in a dataframe\n",
    "cat_feat_names = categorical.columns.values\n",
    "cat_feat_values = [categorical[name].nunique(dropna=True) for name in cat_feat_names]\n",
    "cat_feat_dict = {\"Name\": pd.Series(data=cat_feat_names), \"Unique Values\": pd.Series(data=cat_feat_values)}\n",
    "cat_feat_df = pd.DataFrame(cat_feat_dict)\n",
    "display(cat_feat_df)"
   ]
  },
  {
   "cell_type": "code",
   "execution_count": 32,
   "metadata": {},
   "outputs": [
    {
     "name": "stdout",
     "output_type": "stream",
     "text": [
      "Binary categorical features: (5)\n",
      "ANREDE_KZ\n",
      "GREEN_AVANTGARDE\n",
      "SOHO_KZ\n",
      "VERS_TYP\n",
      "OST_WEST_KZ\n"
     ]
    }
   ],
   "source": [
    "# Find binary features\n",
    "binary_feat = cat_feat_df[cat_feat_df[\"Unique Values\"] == 2][\"Name\"].values\n",
    "print(\"Binary categorical features: ({})\".format(len(binary_feat)))\n",
    "for feat in binary_feat:\n",
    "    print(feat)"
   ]
  },
  {
   "cell_type": "code",
   "execution_count": 33,
   "metadata": {},
   "outputs": [
    {
     "name": "stdout",
     "output_type": "stream",
     "text": [
      "Multi-level categorical features: (14)\n",
      "CJT_GESAMTTYP\n",
      "FINANZTYP\n",
      "GFK_URLAUBERTYP\n",
      "LP_FAMILIE_FEIN\n",
      "LP_FAMILIE_GROB\n",
      "LP_STATUS_FEIN\n",
      "LP_STATUS_GROB\n",
      "NATIONALITAET_KZ\n",
      "SHOPPER_TYP\n",
      "TITEL_KZ\n",
      "ZABEOTYP\n",
      "GEBAEUDETYP\n",
      "CAMEO_DEUG_2015\n",
      "CAMEO_DEU_2015\n"
     ]
    }
   ],
   "source": [
    "# Find multi-level features\n",
    "multi_level = cat_feat_df[cat_feat_df[\"Unique Values\"] > 2][\"Name\"].values\n",
    "print(\"Multi-level categorical features: ({})\".format(len(multi_level)))\n",
    "for feat in multi_level:\n",
    "    print(feat)"
   ]
  },
  {
   "cell_type": "code",
   "execution_count": 34,
   "metadata": {},
   "outputs": [],
   "source": [
    "# Encode the binary categorical feature with the non-numeric values\n",
    "ost_west_kz = below_thresh[\"OST_WEST_KZ\"]\n",
    "ost_west_kz = ost_west_kz.map(lambda x: 1 if x == \"W\" else 2, na_action=\"ignore\")"
   ]
  },
  {
   "cell_type": "code",
   "execution_count": 35,
   "metadata": {},
   "outputs": [
    {
     "name": "stderr",
     "output_type": "stream",
     "text": [
      "<ipython-input-35-fea8ebea2702>:2: SettingWithCopyWarning: \n",
      "A value is trying to be set on a copy of a slice from a DataFrame.\n",
      "Try using .loc[row_indexer,col_indexer] = value instead\n",
      "\n",
      "See the caveats in the documentation: https://pandas.pydata.org/pandas-docs/stable/user_guide/indexing.html#returning-a-view-versus-a-copy\n",
      "  below_thresh[\"OST_WEST_KZ\"] = ost_west_kz\n"
     ]
    }
   ],
   "source": [
    "# Replace OST_WEST_KZ with the encoded version\n",
    "below_thresh[\"OST_WEST_KZ\"] = ost_west_kz"
   ]
  },
  {
   "cell_type": "code",
   "execution_count": 36,
   "metadata": {},
   "outputs": [
    {
     "data": {
      "image/png": "[encoded data removed]",
      "text/plain": [
       "<Figure size 432x288 with 2 Axes>"
      ]
     },
     "metadata": {
      "needs_background": "light"
     },
     "output_type": "display_data"
    }
   ],
   "source": [
    "# Calculate the correlations between the multi-level features to see if any can get dropped without losing information\n",
    "sns.heatmap(below_thresh[multi_level].corr())\n",
    "plt.show()"
   ]
  },
  {
   "cell_type": "code",
   "execution_count": 37,
   "metadata": {},
   "outputs": [
    {
     "data": {
      "image/png": "[encoded data removed]",
      "text/plain": [
       "<Figure size 432x288 with 2 Axes>"
      ]
     },
     "metadata": {
      "needs_background": "light"
     },
     "output_type": "display_data"
    }
   ],
   "source": [
    "# Highlight the most highily correlated features\n",
    "cov_matrix = below_thresh[multi_level].corr()\n",
    "cov_matrix_high = cov_matrix[(cov_matrix >= 0.9) & (cov_matrix < 1.0)]\n",
    "sns.heatmap(cov_matrix_high)\n",
    "plt.show()"
   ]
  },
  {
   "cell_type": "code",
   "execution_count": 38,
   "metadata": {},
   "outputs": [
    {
     "name": "stderr",
     "output_type": "stream",
     "text": [
      "/home/alex/miniconda3/envs/udacity/lib/python3.8/site-packages/pandas/core/frame.py:3990: SettingWithCopyWarning: \n",
      "A value is trying to be set on a copy of a slice from a DataFrame\n",
      "\n",
      "See the caveats in the documentation: https://pandas.pydata.org/pandas-docs/stable/user_guide/indexing.html#returning-a-view-versus-a-copy\n",
      "  return super().drop(\n"
     ]
    }
   ],
   "source": [
    "# Drop selected features from the dataset and the feature info dataset\n",
    "features_to_drop = [\"LP_FAMILIE_FEIN\", \"LP_STATUS_FEIN\"]\n",
    "below_thresh.drop(columns=[features_to_drop[0], features_to_drop[1]], inplace=True)\n",
    "feat_info = feat_info[feat_info[\"attribute\"] != features_to_drop[0]]\n",
    "feat_info = feat_info[feat_info[\"attribute\"] != features_to_drop[1]]"
   ]
  },
  {
   "cell_type": "code",
   "execution_count": 39,
   "metadata": {},
   "outputs": [
    {
     "name": "stdout",
     "output_type": "stream",
     "text": [
      "Remaining multi-level features(12): \n",
      "CJT_GESAMTTYP\n",
      "FINANZTYP\n",
      "GFK_URLAUBERTYP\n",
      "LP_FAMILIE_GROB\n",
      "LP_STATUS_GROB\n",
      "NATIONALITAET_KZ\n",
      "SHOPPER_TYP\n",
      "TITEL_KZ\n",
      "ZABEOTYP\n",
      "GEBAEUDETYP\n",
      "CAMEO_DEUG_2015\n",
      "CAMEO_DEU_2015\n"
     ]
    }
   ],
   "source": [
    "# Remove dropped features from multi_level list\n",
    "multi_level = multi_level[multi_level != features_to_drop[0]]\n",
    "multi_level = multi_level[multi_level != features_to_drop[1]]\n",
    "\n",
    "print(\"Remaining multi-level features({}): \".format(len(multi_level)))\n",
    "for f in multi_level:\n",
    "    print(f)"
   ]
  },
  {
   "cell_type": "code",
   "execution_count": 40,
   "metadata": {},
   "outputs": [],
   "source": [
    "# One-hot encode remaining multi-level features\n",
    "multi_level_encoded = pd.get_dummies(below_thresh[multi_level].astype(\"str\"), drop_first=True)"
   ]
  },
  {
   "cell_type": "code",
   "execution_count": 41,
   "metadata": {},
   "outputs": [
    {
     "name": "stdout",
     "output_type": "stream",
     "text": [
      "Number of features before one-hot encoding: 80\n"
     ]
    }
   ],
   "source": [
    "print(\"Number of features before one-hot encoding: {}\".format(below_thresh.shape[1]))"
   ]
  },
  {
   "cell_type": "code",
   "execution_count": 42,
   "metadata": {},
   "outputs": [],
   "source": [
    "# Replace features with one-hot encoded versions\n",
    "below_thresh = below_thresh.drop(columns=multi_level)\n",
    "below_thresh = pd.concat([below_thresh, multi_level_encoded], axis=1)"
   ]
  },
  {
   "cell_type": "code",
   "execution_count": 43,
   "metadata": {},
   "outputs": [
    {
     "name": "stdout",
     "output_type": "stream",
     "text": [
      "Number of features after one-hot encoding: 178\n"
     ]
    }
   ],
   "source": [
    "print(\"Number of features after one-hot encoding: {}\".format(below_thresh.shape[1]))"
   ]
  },
  {
   "cell_type": "markdown",
   "metadata": {},
   "source": [
    "#### 🟧Discussion 1.2.1: Re-Encode Categorical Features\n",
    "\n",
    "(Double-click this cell and replace this text with your own text, reporting your findings and decisions regarding categorical features. Which ones did you keep, which did you drop, and what engineering steps did you perform?)\n",
    "\n",
    "**Binary Features**\n",
    "\n",
    "There are 5 binary categorical features, of which OST_WEST_KZ is the only one that is non-numerical. This values of this feature, `'W'` and `'O'`, were replaced with 1 and 2 respectively. The remaining 4 binary features were left untouched.\n",
    "\n",
    "**Multi-Level Features**\n",
    "\n",
    "There are 14 multi-level categorical features in the dataset. In order to decide which ones to one-hot encode and which ones to drop, I plotted a heatmap of the correlations between them. In the first heatmap, I noticed that some of the features are highly correlated with each other, so I plotted a second heatmap to highlight the most highly correlated pairs of features (>=0.9 or <=-0.3). I came up with the following pairs of features:\n",
    "\n",
    "* `LP_FAMILIE_FEIN` - `LP_FAMILIE_GROB`: these two features are almost perfectly correlated with each other (0.9841), which makes sense because both describe 'family type' with one of them (LP_FAMILIE_FEIN) being a more detailed breakdown of the characteristic. Since they have the same number of missing features, I decided to drop the more complicated of the two (LP_FAMILIE_GROB).\n",
    "\n",
    "* `LP_STATUS_FEIN` - `LP_STATUS_GROB`: similar to the family type features, these two describe the social status of a person in the dataset, on a fine and rougher scale respectively. Therefore, we can drop one of them (the most complicated one) without losing much information.\n",
    "\n",
    "The remaining 12 multi-level features were one-hot encoded."
   ]
  },
  {
   "cell_type": "markdown",
   "metadata": {},
   "source": [
    "#### 🟥Step 1.2.2: Engineer Mixed-Type Features\n",
    "\n",
    "There are a handful of features that are marked as \"mixed\" in the feature summary that require special treatment in order to be included in the analysis. There are two in particular that deserve attention; the handling of the rest are up to your own choices:\n",
    "- \"PRAEGENDE_JUGENDJAHRE\" combines information on three dimensions: generation by decade, movement (mainstream vs. avantgarde), and nation (east vs. west). While there aren't enough levels to disentangle east from west, you should create two new variables to capture the other two dimensions: an interval-type variable for decade, and a binary variable for movement.\n",
    "- \"CAMEO_INTL_2015\" combines information on two axes: wealth and life stage. Break up the two-digit codes by their 'tens'-place and 'ones'-place digits into two new ordinal variables (which, for the purposes of this project, is equivalent to just treating them as their raw numeric values).\n",
    "- If you decide to keep or engineer new features around the other mixed-type features, make sure you note your steps in the Discussion section.\n",
    "\n",
    "Be sure to check `Data_Dictionary.md` for the details needed to finish these tasks."
   ]
  },
  {
   "cell_type": "code",
   "execution_count": 44,
   "metadata": {},
   "outputs": [],
   "source": [
    "# Investigate \"PRAEGENDE_JUGENDJAHRE\" and engineer two new variables.\n",
    "mixed1 = below_thresh[\"PRAEGENDE_JUGENDJAHRE\"]\n",
    "\n",
    "# Mapping between original value and new values (decade, movement)\n",
    "mixed1_map = {\n",
    "    1.0:  [1, 1], 2.0:  [1, 2],  3.0: [2, 1],  4.0: [2, 2],  5.0: [3, 1],\n",
    "    6.0:  [3, 2], 7.0:  [3, 2],  8.0: [4, 1],  9.0: [4, 2], 10.0: [5, 1], \n",
    "    11.0: [5, 2], 12.0: [5, 1], 13.0: [5, 2], 14.0: [6, 1], 15.0: [6, 2],\n",
    "}\n",
    "\n",
    "# Create decade and movement variables\n",
    "decade = mixed1.map(lambda x: mixed1_map[x][0], na_action=\"ignore\")\n",
    "movement = mixed1.map(lambda x: mixed1_map[x][1], na_action=\"ignore\")\n",
    "\n",
    "# Rename variables\n",
    "decade = decade.rename(\"DECADE\")\n",
    "movement = movement.rename(\"MOVEMENT\")"
   ]
  },
  {
   "cell_type": "code",
   "execution_count": 45,
   "metadata": {},
   "outputs": [],
   "source": [
    "# Investigate \"CAMEO_INTL_2015\" and engineer two new variables.\n",
    "mixed2 = below_thresh[\"CAMEO_INTL_2015\"]\n",
    "\n",
    "# Create wealth and life_stage variables\n",
    "wealth = mixed2.map(lambda x: int(x) // 10, na_action=\"ignore\")     # keep the first digit\n",
    "life_stage = mixed2.map(lambda x: int(x) % 10, na_action=\"ignore\")  # keep the second digit\n",
    "\n",
    "# Rename variables\n",
    "wealth = wealth.rename(\"WEALTH\")\n",
    "life_stage = life_stage.rename(\"LIFE_STAGE\")"
   ]
  },
  {
   "cell_type": "markdown",
   "metadata": {},
   "source": [
    "#### 🟧Discussion 1.2.2: Engineer Mixed-Type Features\n",
    "\n",
    "(Double-click this cell and replace this text with your own text, reporting your findings and decisions regarding mixed-value features. Which ones did you keep, which did you drop, and what engineering steps did you perform?)\n",
    "\n",
    "* `PRAEGENDE_JUGENDJAHRE`: I created a `DECADE` variable which takes values from 1-6 (40s-90s) and a `MOVEMENT` variable which takes values 1 or 2 (mainstream or avantgarde).\n",
    "\n",
    "* `CAMEO_INTL_2015`: I created a `WEALTH` variable and a `LIFE_STAGE` variable and split each original value into the two based on its digits."
   ]
  },
  {
   "cell_type": "markdown",
   "metadata": {},
   "source": [
    "#### 🟥Step 1.2.3: Complete Feature Selection\n",
    "\n",
    "In order to finish this step up, you need to make sure that your data frame now only has the columns that you want to keep. To summarize, the dataframe should consist of the following:\n",
    "- All numeric, interval, and ordinal type columns from the original dataset.\n",
    "- Binary categorical features (all numerically-encoded).\n",
    "- Engineered features from other multi-level categorical features and mixed features.\n",
    "\n",
    "Make sure that for any new columns that you have engineered, that you've excluded the original columns from the final dataset. Otherwise, their values will interfere with the analysis later on the project. For example, you should not keep \"PRAEGENDE_JUGENDJAHRE\", since its values won't be useful for the algorithm: only the values derived from it in the engineered features you created should be retained. As a reminder, your data should only be from **the subset with few or no missing values**."
   ]
  },
  {
   "cell_type": "code",
   "execution_count": 46,
   "metadata": {},
   "outputs": [],
   "source": [
    "# If there are other re-engineering tasks you need to perform, make sure you take care of them here. (Dealing with missing data will come in step 2.1.)\n",
    "\n"
   ]
  },
  {
   "cell_type": "code",
   "execution_count": 47,
   "metadata": {},
   "outputs": [],
   "source": [
    "# Do whatever you need to in order to ensure that the dataframe only contains the columns that should be passed to the algorithm functions.\n",
    "below_thresh = below_thresh.drop(columns=[\"PRAEGENDE_JUGENDJAHRE\"])\n",
    "below_thresh = below_thresh.drop(columns=[\"CAMEO_INTL_2015\"])\n",
    "\n",
    "below_thresh[\"DECADE\"] = decade\n",
    "below_thresh[\"MOVEMENT\"] = movement\n",
    "below_thresh[\"WEALTH\"] = wealth\n",
    "below_thresh[\"LIFE_STAGE\"] = life_stage"
   ]
  },
  {
   "cell_type": "markdown",
   "metadata": {},
   "source": [
    "### 🟥🟥Step 1.3: Create a Cleaning Function\n",
    "\n",
    "Even though you've finished cleaning up the general population demographics data, it's important to look ahead to the future and realize that you'll need to perform the same cleaning steps on the customer demographics data. In this substep, complete the function below to execute the main feature selection, encoding, and re-engineering steps you performed above. Then, when it comes to looking at the customer data in Step 3, you can just run this function on that DataFrame to get the trimmed dataset in a single step."
   ]
  },
  {
   "cell_type": "code",
   "execution_count": 10,
   "metadata": {},
   "outputs": [],
   "source": [
    "def clean_data(df):\n",
    "    \"\"\"\n",
    "    Perform feature trimming, re-encoding, and engineering for demographics\n",
    "    data\n",
    "    \n",
    "    INPUT: Demographics DataFrame\n",
    "    OUTPUT: Trimmed and cleaned demographics DataFrame\n",
    "    \"\"\"\n",
    "        \n",
    "    # Convert missing value codes into NaNs\n",
    "    df = df.apply(encode_miss_values)\n",
    "        \n",
    "    # Remove columns with large number of NaNs\n",
    "    df = df.drop(columns=[\"AGER_TYP\", \"GEBURTSJAHR\", \"KK_KUNDENTYP\"])\n",
    "        \n",
    "    # Remove rows with more than 25 missing values\n",
    "    df[\"nan_count\"] = df.isna().sum(axis=1)\n",
    "    df = df[df[\"nan_count\"] > 25].drop(columns=[\"nan_count\"])\n",
    "    \n",
    "    # Re-encode OST_WEST_KZ to contain numerical data\n",
    "    df[\"OST_WEST_KZ\"] = df[\"OST_WEST_KZ\"].map({\"W\": 1, \"O\": 2}, na_action=\"ignore\")\n",
    "        \n",
    "    # Drop redundant multi-level features (highly correlated with other features) \n",
    "    df = df.drop(columns=[\"LP_FAMILIE_FEIN\", \"LP_STATUS_FEIN\"])\n",
    "    \n",
    "    \n",
    "    # One-hot encode multi-level features\n",
    "    multi_level_feats = [\"CJT_GESAMTTYP\", \"FINANZTYP\", \"GFK_URLAUBERTYP\", \n",
    "                         \"LP_FAMILIE_GROB\", \"LP_STATUS_GROB\", \"NATIONALITAET_KZ\", \n",
    "                         \"SHOPPER_TYP\", \"TITEL_KZ\", \"ZABEOTYP\", \n",
    "                         \"GEBAEUDETYP\", \"CAMEO_DEUG_2015\", \"CAMEO_DEU_2015\"]\n",
    "    \n",
    "    multi_level_encoded = pd.get_dummies(df[multi_level_feats].astype(\"str\"), drop_first=True, dummy_na=False)\n",
    "    df = df.drop(columns=multi_level_feats)\n",
    "    df = pd.concat([df, multi_level_encoded], axis=1)\n",
    "        \n",
    "    # Engineer new features from mixed features\n",
    "    mixed1 = df[\"PRAEGENDE_JUGENDJAHRE\"]\n",
    "    mixed2 = df[\"CAMEO_INTL_2015\"]\n",
    "    \n",
    "    # Mapping between original value and new values (decade, movement)\n",
    "    mixed1_map = {\n",
    "        1.0:  [1, 1], 2.0:  [1, 2],  3.0: [2, 1],  4.0: [2, 2],  5.0: [3, 1],\n",
    "        6.0:  [3, 2], 7.0:  [3, 2],  8.0: [4, 1],  9.0: [4, 2], 10.0: [5, 1], \n",
    "        11.0: [5, 2], 12.0: [5, 1], 13.0: [5, 2], 14.0: [6, 1], 15.0: [6, 2],\n",
    "    }\n",
    "\n",
    "    # Create decade and movement variables\n",
    "    decade = mixed1.map(lambda x: mixed1_map[x][0], na_action=\"ignore\")\n",
    "    movement = mixed1.map(lambda x: mixed1_map[x][1], na_action=\"ignore\")\n",
    "    \n",
    "    # Create wealth and life_stage variables\n",
    "    wealth = mixed2.map(lambda x: int(x) // 10, na_action=\"ignore\")     # keep the first digit\n",
    "    life_stage = mixed2.map(lambda x: int(x) % 10, na_action=\"ignore\")  # keep the second digit\n",
    "\n",
    "    # Rename variables\n",
    "    decade = decade.rename(\"DECADE\")\n",
    "    movement = movement.rename(\"MOVEMENT\")\n",
    "    wealth = wealth.rename(\"WEALTH\")\n",
    "    life_stage = life_stage.rename(\"LIFE_STAGE\")\n",
    "    \n",
    "    # Drop mixed features\n",
    "    df = df.drop(columns=[\"PRAEGENDE_JUGENDJAHRE\"])\n",
    "    df = df.drop(columns=[\"CAMEO_INTL_2015\"])\n",
    "    \n",
    "    # Add new features\n",
    "    df[\"DECADE\"] = decade\n",
    "    df[\"MOVEMENT\"] = movement\n",
    "    df[\"WEALTH\"] = wealth\n",
    "    df[\"LIFE_STAGE\"] = life_stage\n",
    "        \n",
    "    # Return the cleaned dataframe\n",
    "    return df\n",
    "    "
   ]
  },
  {
   "cell_type": "markdown",
   "metadata": {},
   "source": [
    "## 🟥🟥🟥Step 2: Feature Transformation\n",
    "\n",
    "### 🟥🟥Step 2.1: Apply Feature Scaling\n",
    "\n",
    "Before we apply dimensionality reduction techniques to the data, we need to perform feature scaling so that the principal component vectors are not influenced by the natural differences in scale for features. Starting from this part of the project, you'll want to keep an eye on the [API reference page for sklearn](http://scikit-learn.org/stable/modules/classes.html) to help you navigate to all of the classes and functions that you'll need. In this substep, you'll need to check the following:\n",
    "\n",
    "- sklearn requires that data not have missing values in order for its estimators to work properly. So, before applying the scaler to your data, make sure that you've cleaned the DataFrame of the remaining missing values. This can be as simple as just removing all data points with missing data, or applying an [Imputer](http://scikit-learn.org/stable/modules/generated/sklearn.preprocessing.Imputer.html) to replace all missing values. You might also try a more complicated procedure where you temporarily remove missing values in order to compute the scaling parameters before re-introducing those missing values and applying imputation. Think about how much missing data you have and what possible effects each approach might have on your analysis, and justify your decision in the discussion section below.\n",
    "- For the actual scaling function, a [StandardScaler](http://scikit-learn.org/stable/modules/generated/sklearn.preprocessing.StandardScaler.html) instance is suggested, scaling each feature to mean 0 and standard deviation 1.\n",
    "- For these classes, you can make use of the `.fit_transform()` method to both fit a procedure to the data as well as apply the transformation to the data at the same time. Don't forget to keep the fit sklearn objects handy, since you'll be applying them to the customer demographics data towards the end of the project."
   ]
  },
  {
   "cell_type": "code",
   "execution_count": 49,
   "metadata": {},
   "outputs": [
    {
     "name": "stdout",
     "output_type": "stream",
     "text": [
      "Percentage of data with missing values: 17.48%\n"
     ]
    }
   ],
   "source": [
    "# Calculate percentage of data with missing values\n",
    "perc_missing_data = np.around(((below_thresh.isna().sum(axis=1) > 0).sum() / below_thresh.shape[0]) * 100, decimals=2)\n",
    "print(\"Percentage of data with missing values: {}%\".format(perc_missing_data))"
   ]
  },
  {
   "cell_type": "code",
   "execution_count": 50,
   "metadata": {},
   "outputs": [],
   "source": [
    "# Perform univariate imputation to replace all missing values.\n",
    "# Replace every missing value with the most frequent value in that column.\n",
    "# This strategy ensures that categorical variables (like sex) don't get continuous values that make no sense (e.g. sex=1.3).\n",
    "imputer = SimpleImputer(missing_values=np.nan, strategy=\"most_frequent\").fit(below_thresh)\n",
    "imputed_data = imputer.transform(below_thresh)\n",
    "\n",
    "# Reconstruct dataset using imputed values\n",
    "below_thresh_imputed = pd.DataFrame(imputed_data, columns=below_thresh.columns)"
   ]
  },
  {
   "cell_type": "code",
   "execution_count": 51,
   "metadata": {},
   "outputs": [
    {
     "name": "stdout",
     "output_type": "stream",
     "text": [
      "Missing values in dataset: 0\n"
     ]
    }
   ],
   "source": [
    "print(\"Missing values in dataset: {}\".format(below_thresh_imputed.isna().sum().sum()))"
   ]
  },
  {
   "cell_type": "code",
   "execution_count": 52,
   "metadata": {},
   "outputs": [],
   "source": [
    "# Apply feature scaling to the general population demographics data.\n",
    "scaler = StandardScaler().fit(below_thresh_imputed)\n",
    "scaled_data = scaler.transform(below_thresh_imputed)\n",
    "below_thresh_scaled = pd.DataFrame(scaled_data, columns=below_thresh_imputed.columns)"
   ]
  },
  {
   "cell_type": "markdown",
   "metadata": {},
   "source": [
    "### 🟧Discussion 2.1: Apply Feature Scaling\n",
    "\n",
    "(Double-click this cell and replace this text with your own text, reporting your decisions regarding feature scaling.)\n",
    "\n",
    "**Missing values**\n",
    "\n",
    "A significant amount of the dataset (17.48%) contains missing values. Therefore, simply removing it might lead to important information getting lost. So, I decided to apply an imputer to replace all missing values with the mean of the column they're in. The mean strategy might not be ideal for categorical data, where the 'most frequent' strategy might work better to retain the structure of the feature."
   ]
  },
  {
   "cell_type": "markdown",
   "metadata": {},
   "source": [
    "### 🟥🟥Step 2.2: Perform Dimensionality Reduction\n",
    "\n",
    "On your scaled data, you are now ready to apply dimensionality reduction techniques.\n",
    "\n",
    "- Use sklearn's [PCA](http://scikit-learn.org/stable/modules/generated/sklearn.decomposition.PCA.html) class to apply principal component analysis on the data, thus finding the vectors of maximal variance in the data. To start, you should not set any parameters (so all components are computed) or set a number of components that is at least half the number of features (so there's enough features to see the general trend in variability).\n",
    "- Check out the ratio of variance explained by each principal component as well as the cumulative variance explained. Try plotting the cumulative or sequential values using matplotlib's [`plot()`](https://matplotlib.org/api/_as_gen/matplotlib.pyplot.plot.html) function. Based on what you find, select a value for the number of transformed features you'll retain for the clustering part of the project.\n",
    "- Once you've made a choice for the number of components to keep, make sure you re-fit a PCA instance to perform the decided-on transformation."
   ]
  },
  {
   "cell_type": "code",
   "execution_count": 83,
   "metadata": {},
   "outputs": [
    {
     "name": "stdout",
     "output_type": "stream",
     "text": [
      "PCA execution time: 12.24s\n",
      "Number of components: 180\n"
     ]
    }
   ],
   "source": [
    "# Apply PCA to the data.\n",
    "start = time.time()\n",
    "pca = PCA().fit(below_thresh_scaled)\n",
    "end = time.time()\n",
    "print(\"PCA execution time: {}s\".format(np.around(end-start, decimals=2)))\n",
    "print(\"Number of components: {}\".format(pca.n_components_))"
   ]
  },
  {
   "cell_type": "code",
   "execution_count": 88,
   "metadata": {},
   "outputs": [
    {
     "data": {
      "text/plain": [
       "180"
      ]
     },
     "execution_count": 88,
     "metadata": {},
     "output_type": "execute_result"
    }
   ],
   "source": [
    "len(pca.explained_variance_ratio_)"
   ]
  },
  {
   "cell_type": "code",
   "execution_count": 89,
   "metadata": {},
   "outputs": [
    {
     "data": {
      "image/png": "[encoded data removed]",
      "text/plain": [
       "<Figure size 432x288 with 1 Axes>"
      ]
     },
     "metadata": {
      "needs_background": "light"
     },
     "output_type": "display_data"
    }
   ],
   "source": [
    "# Investigate the variance accounted for by each principal component.\n",
    "explained_variance_ratio = pca.explained_variance_ratio_\n",
    "plt.plot(np.arange(1, len(explained_variance_ratio)+1), explained_variance_ratio)\n",
    "plt.title(\"Variance Explained by Each Principal Component\")\n",
    "plt.xlabel(\"Component\")\n",
    "plt.ylabel(\"Explained Variance Ratio\")\n",
    "plt.show()"
   ]
  },
  {
   "cell_type": "code",
   "execution_count": 90,
   "metadata": {},
   "outputs": [],
   "source": [
    "# Investigate the cumulative variance explained by the components.\n",
    "explained_variance_cum = []\n",
    "for i in range(len(explained_variance_ratio)):\n",
    "    variance_sum = 0\n",
    "    for j in range(i+1):\n",
    "        variance_sum += explained_variance_ratio[j]\n",
    "    explained_variance_cum.append(variance_sum)"
   ]
  },
  {
   "cell_type": "code",
   "execution_count": 92,
   "metadata": {},
   "outputs": [
    {
     "data": {
      "image/png": "[encoded data removed]",
      "text/plain": [
       "<Figure size 432x288 with 1 Axes>"
      ]
     },
     "metadata": {
      "needs_background": "light"
     },
     "output_type": "display_data"
    }
   ],
   "source": [
    "plt.plot(np.arange(1, len(explained_variance_cum)+1), explained_variance_cum)\n",
    "plt.title(\"Total Variance Explained as Number of Components Increases\")\n",
    "plt.xlabel(\"Number of Components\")\n",
    "plt.ylabel(\"Cumulative Explained Variance Ratio\")\n",
    "plt.show()"
   ]
  },
  {
   "cell_type": "code",
   "execution_count": 93,
   "metadata": {},
   "outputs": [
    {
     "name": "stdout",
     "output_type": "stream",
     "text": [
      "Variance explained by 92 components: 85.67%\n"
     ]
    }
   ],
   "source": [
    "components_to_keep = 92\n",
    "print(\"Variance explained by {} components: {}%\".format(components_to_keep, np.around(explained_variance_cum[components_to_keep-1]*100, decimals=2)))"
   ]
  },
  {
   "cell_type": "code",
   "execution_count": 94,
   "metadata": {},
   "outputs": [
    {
     "name": "stdout",
     "output_type": "stream",
     "text": [
      "PCA execution time: 32.97s\n",
      "Number of components kept: 92\n",
      "Total variance explained: 85.38%\n"
     ]
    }
   ],
   "source": [
    "# Re-apply PCA to the data while selecting for number of components to retain.\n",
    "start = time.time()\n",
    "pca = PCA(n_components=components_to_keep).fit(below_thresh_scaled)\n",
    "below_thresh_pca = pca.transform(below_thresh_scaled)\n",
    "end = time.time()\n",
    "\n",
    "print(\"PCA execution time: {}s\".format(np.around(end-start, decimals=2)))\n",
    "print(\"Number of components kept: {}\".format(pca.n_components_))\n",
    "print(\"Total variance explained: {}%\".format(np.around(pca.explained_variance_ratio_.sum()*100, decimals=2)))"
   ]
  },
  {
   "cell_type": "markdown",
   "metadata": {},
   "source": [
    "### 🟧Discussion 2.2: Perform Dimensionality Reduction\n",
    "\n",
    "(Double-click this cell and replace this text with your own text, reporting your findings and decisions regarding dimensionality reduction. How many principal components / transformed features are you retaining for the next step of the analysis?)\n",
    "\n",
    "By plotting the variance explained by each component and the total variance explained against the number of components, I found that 92 components are required to explain at least 85% of the variance. So, I reapplied PCA to the dataset with 92 components."
   ]
  },
  {
   "cell_type": "markdown",
   "metadata": {},
   "source": [
    "### 🟥🟥Step 2.3: Interpret Principal Components\n",
    "\n",
    "Now that we have our transformed principal components, it's a nice idea to check out the weight of each variable on the first few components to see if they can be interpreted in some fashion.\n",
    "\n",
    "As a reminder, each principal component is a unit vector that points in the direction of highest variance (after accounting for the variance captured by earlier principal components). The further a weight is from zero, the more the principal component is in the direction of the corresponding feature. If two features have large weights of the same sign (both positive or both negative), then increases in one tend to be associated with increases in the other. To contrast, features with different signs can be expected to show a negative correlation: increases in one variable should result in a decrease in the other.\n",
    "\n",
    "- To investigate the features, you should map each weight to their corresponding feature name, then sort the features according to weight. The most interesting features for each principal component, then, will be those at the beginning and end of the sorted list. Use the data dictionary document to help you understand these most prominent features, their relationships, and what a positive or negative value on the principal component might indicate.\n",
    "- You should investigate and interpret feature associations from the first three principal components in this substep. To help facilitate this, you should write a function that you can call at any time to print the sorted list of feature weights, for the *i*-th principal component. This might come in handy in the next step of the project, when you interpret the tendencies of the discovered clusters."
   ]
  },
  {
   "cell_type": "code",
   "execution_count": 95,
   "metadata": {},
   "outputs": [],
   "source": [
    "def print_topn_comp_feats(component, feature_names, k=5):\n",
    "    \"\"\"\n",
    "    Print the top k positive and negative components with their associated weights.\n",
    "    Note: sorting code taken from: https://stackoverflow.com/questions/6618515/sorting-list-based-on-values-from-another-list\n",
    "    \n",
    "    :comp: ndarray of weights of principal component\n",
    "    \"\"\"\n",
    "    \n",
    "    # Store features and weights in a df and sort it \n",
    "    df = pd.DataFrame({\"Feature\": feature_names, \"Weight\": component})\n",
    "    df = df.sort_values(\"Weight\", ascending=False)\n",
    "    \n",
    "    # Keep only the top k positive and negative features\n",
    "    top_positive_feat = df.iloc[0:k, :]\n",
    "    top_negative_feat = df.iloc[-k:, :]\n",
    "    df = pd.concat([top_positive_feat, top_negative_feat])\n",
    "    \n",
    "    df = df.reset_index(drop=True)\n",
    "    df.index = df.index + 1\n",
    "    return df"
   ]
  },
  {
   "cell_type": "code",
   "execution_count": 96,
   "metadata": {},
   "outputs": [
    {
     "data": {
      "text/html": [
       "<div>\n",
       "<style scoped>\n",
       "    .dataframe tbody tr th:only-of-type {\n",
       "        vertical-align: middle;\n",
       "    }\n",
       "\n",
       "    .dataframe tbody tr th {\n",
       "        vertical-align: top;\n",
       "    }\n",
       "\n",
       "    .dataframe thead th {\n",
       "        text-align: right;\n",
       "    }\n",
       "</style>\n",
       "<table border=\"1\" class=\"dataframe\">\n",
       "  <thead>\n",
       "    <tr style=\"text-align: right;\">\n",
       "      <th></th>\n",
       "      <th>Feature</th>\n",
       "      <th>Weight</th>\n",
       "    </tr>\n",
       "  </thead>\n",
       "  <tbody>\n",
       "    <tr>\n",
       "      <th>1</th>\n",
       "      <td>PLZ8_ANTG3</td>\n",
       "      <td>0.196971</td>\n",
       "    </tr>\n",
       "    <tr>\n",
       "      <th>2</th>\n",
       "      <td>WEALTH</td>\n",
       "      <td>0.192983</td>\n",
       "    </tr>\n",
       "    <tr>\n",
       "      <th>3</th>\n",
       "      <td>PLZ8_ANTG4</td>\n",
       "      <td>0.191430</td>\n",
       "    </tr>\n",
       "    <tr>\n",
       "      <th>4</th>\n",
       "      <td>PLZ8_BAUMAX</td>\n",
       "      <td>0.189094</td>\n",
       "    </tr>\n",
       "    <tr>\n",
       "      <th>5</th>\n",
       "      <td>HH_EINKOMMEN_SCORE</td>\n",
       "      <td>0.186690</td>\n",
       "    </tr>\n",
       "    <tr>\n",
       "      <th>6</th>\n",
       "      <td>FINANZ_MINIMALIST</td>\n",
       "      <td>-0.184172</td>\n",
       "    </tr>\n",
       "    <tr>\n",
       "      <th>7</th>\n",
       "      <td>KBA05_ANTG1</td>\n",
       "      <td>-0.186694</td>\n",
       "    </tr>\n",
       "    <tr>\n",
       "      <th>8</th>\n",
       "      <td>KBA05_GBZ</td>\n",
       "      <td>-0.190104</td>\n",
       "    </tr>\n",
       "    <tr>\n",
       "      <th>9</th>\n",
       "      <td>MOBI_REGIO</td>\n",
       "      <td>-0.196195</td>\n",
       "    </tr>\n",
       "    <tr>\n",
       "      <th>10</th>\n",
       "      <td>PLZ8_ANTG1</td>\n",
       "      <td>-0.198342</td>\n",
       "    </tr>\n",
       "  </tbody>\n",
       "</table>\n",
       "</div>"
      ],
      "text/plain": [
       "               Feature    Weight\n",
       "1           PLZ8_ANTG3  0.196971\n",
       "2               WEALTH  0.192983\n",
       "3           PLZ8_ANTG4  0.191430\n",
       "4          PLZ8_BAUMAX  0.189094\n",
       "5   HH_EINKOMMEN_SCORE  0.186690\n",
       "6    FINANZ_MINIMALIST -0.184172\n",
       "7          KBA05_ANTG1 -0.186694\n",
       "8            KBA05_GBZ -0.190104\n",
       "9           MOBI_REGIO -0.196195\n",
       "10          PLZ8_ANTG1 -0.198342"
      ]
     },
     "execution_count": 96,
     "metadata": {},
     "output_type": "execute_result"
    }
   ],
   "source": [
    "# Map weights for the first principal component to corresponding feature names and then print the linked values, sorted by weight.\n",
    "component_1 = pca.components_[0]\n",
    "print_topn_comp_feats(component_1, below_thresh_scaled.columns)"
   ]
  },
  {
   "cell_type": "code",
   "execution_count": 97,
   "metadata": {},
   "outputs": [
    {
     "data": {
      "text/html": [
       "<div>\n",
       "<style scoped>\n",
       "    .dataframe tbody tr th:only-of-type {\n",
       "        vertical-align: middle;\n",
       "    }\n",
       "\n",
       "    .dataframe tbody tr th {\n",
       "        vertical-align: top;\n",
       "    }\n",
       "\n",
       "    .dataframe thead th {\n",
       "        text-align: right;\n",
       "    }\n",
       "</style>\n",
       "<table border=\"1\" class=\"dataframe\">\n",
       "  <thead>\n",
       "    <tr style=\"text-align: right;\">\n",
       "      <th></th>\n",
       "      <th>Feature</th>\n",
       "      <th>Weight</th>\n",
       "    </tr>\n",
       "  </thead>\n",
       "  <tbody>\n",
       "    <tr>\n",
       "      <th>1</th>\n",
       "      <td>ALTERSKATEGORIE_GROB</td>\n",
       "      <td>0.244238</td>\n",
       "    </tr>\n",
       "    <tr>\n",
       "      <th>2</th>\n",
       "      <td>FINANZ_VORSORGER</td>\n",
       "      <td>0.231981</td>\n",
       "    </tr>\n",
       "    <tr>\n",
       "      <th>3</th>\n",
       "      <td>ZABEOTYP_3</td>\n",
       "      <td>0.208188</td>\n",
       "    </tr>\n",
       "    <tr>\n",
       "      <th>4</th>\n",
       "      <td>SEMIO_ERL</td>\n",
       "      <td>0.194111</td>\n",
       "    </tr>\n",
       "    <tr>\n",
       "      <th>5</th>\n",
       "      <td>SEMIO_LUST</td>\n",
       "      <td>0.171875</td>\n",
       "    </tr>\n",
       "    <tr>\n",
       "      <th>6</th>\n",
       "      <td>SEMIO_TRADV</td>\n",
       "      <td>-0.218402</td>\n",
       "    </tr>\n",
       "    <tr>\n",
       "      <th>7</th>\n",
       "      <td>FINANZ_UNAUFFAELLIGER</td>\n",
       "      <td>-0.221449</td>\n",
       "    </tr>\n",
       "    <tr>\n",
       "      <th>8</th>\n",
       "      <td>SEMIO_REL</td>\n",
       "      <td>-0.229691</td>\n",
       "    </tr>\n",
       "    <tr>\n",
       "      <th>9</th>\n",
       "      <td>FINANZ_SPARER</td>\n",
       "      <td>-0.237135</td>\n",
       "    </tr>\n",
       "    <tr>\n",
       "      <th>10</th>\n",
       "      <td>DECADE</td>\n",
       "      <td>-0.241110</td>\n",
       "    </tr>\n",
       "  </tbody>\n",
       "</table>\n",
       "</div>"
      ],
      "text/plain": [
       "                  Feature    Weight\n",
       "1    ALTERSKATEGORIE_GROB  0.244238\n",
       "2        FINANZ_VORSORGER  0.231981\n",
       "3              ZABEOTYP_3  0.208188\n",
       "4               SEMIO_ERL  0.194111\n",
       "5              SEMIO_LUST  0.171875\n",
       "6             SEMIO_TRADV -0.218402\n",
       "7   FINANZ_UNAUFFAELLIGER -0.221449\n",
       "8               SEMIO_REL -0.229691\n",
       "9           FINANZ_SPARER -0.237135\n",
       "10                 DECADE -0.241110"
      ]
     },
     "execution_count": 97,
     "metadata": {},
     "output_type": "execute_result"
    }
   ],
   "source": [
    "# Map weights for the second principal component to corresponding feature names and then print the linked values, sorted by weight.\n",
    "component_2 = pca.components_[1]\n",
    "print_topn_comp_feats(component_2, below_thresh_scaled.columns)"
   ]
  },
  {
   "cell_type": "code",
   "execution_count": 98,
   "metadata": {},
   "outputs": [
    {
     "data": {
      "text/html": [
       "<div>\n",
       "<style scoped>\n",
       "    .dataframe tbody tr th:only-of-type {\n",
       "        vertical-align: middle;\n",
       "    }\n",
       "\n",
       "    .dataframe tbody tr th {\n",
       "        vertical-align: top;\n",
       "    }\n",
       "\n",
       "    .dataframe thead th {\n",
       "        text-align: right;\n",
       "    }\n",
       "</style>\n",
       "<table border=\"1\" class=\"dataframe\">\n",
       "  <thead>\n",
       "    <tr style=\"text-align: right;\">\n",
       "      <th></th>\n",
       "      <th>Feature</th>\n",
       "      <th>Weight</th>\n",
       "    </tr>\n",
       "  </thead>\n",
       "  <tbody>\n",
       "    <tr>\n",
       "      <th>1</th>\n",
       "      <td>SEMIO_VERT</td>\n",
       "      <td>0.337956</td>\n",
       "    </tr>\n",
       "    <tr>\n",
       "      <th>2</th>\n",
       "      <td>SEMIO_SOZ</td>\n",
       "      <td>0.262898</td>\n",
       "    </tr>\n",
       "    <tr>\n",
       "      <th>3</th>\n",
       "      <td>SEMIO_FAM</td>\n",
       "      <td>0.258477</td>\n",
       "    </tr>\n",
       "    <tr>\n",
       "      <th>4</th>\n",
       "      <td>SEMIO_KULT</td>\n",
       "      <td>0.249986</td>\n",
       "    </tr>\n",
       "    <tr>\n",
       "      <th>5</th>\n",
       "      <td>FINANZ_MINIMALIST</td>\n",
       "      <td>0.147646</td>\n",
       "    </tr>\n",
       "    <tr>\n",
       "      <th>6</th>\n",
       "      <td>SEMIO_ERL</td>\n",
       "      <td>-0.200672</td>\n",
       "    </tr>\n",
       "    <tr>\n",
       "      <th>7</th>\n",
       "      <td>SEMIO_KRIT</td>\n",
       "      <td>-0.274740</td>\n",
       "    </tr>\n",
       "    <tr>\n",
       "      <th>8</th>\n",
       "      <td>SEMIO_DOM</td>\n",
       "      <td>-0.299908</td>\n",
       "    </tr>\n",
       "    <tr>\n",
       "      <th>9</th>\n",
       "      <td>SEMIO_KAEM</td>\n",
       "      <td>-0.330884</td>\n",
       "    </tr>\n",
       "    <tr>\n",
       "      <th>10</th>\n",
       "      <td>ANREDE_KZ</td>\n",
       "      <td>-0.359478</td>\n",
       "    </tr>\n",
       "  </tbody>\n",
       "</table>\n",
       "</div>"
      ],
      "text/plain": [
       "              Feature    Weight\n",
       "1          SEMIO_VERT  0.337956\n",
       "2           SEMIO_SOZ  0.262898\n",
       "3           SEMIO_FAM  0.258477\n",
       "4          SEMIO_KULT  0.249986\n",
       "5   FINANZ_MINIMALIST  0.147646\n",
       "6           SEMIO_ERL -0.200672\n",
       "7          SEMIO_KRIT -0.274740\n",
       "8           SEMIO_DOM -0.299908\n",
       "9          SEMIO_KAEM -0.330884\n",
       "10          ANREDE_KZ -0.359478"
      ]
     },
     "execution_count": 98,
     "metadata": {},
     "output_type": "execute_result"
    }
   ],
   "source": [
    "# Map weights for the third principal component to corresponding feature names and then print the linked values, sorted by weight.\n",
    "component_3 = pca.components_[2]\n",
    "print_topn_comp_feats(component_3, below_thresh_scaled.columns)"
   ]
  },
  {
   "cell_type": "markdown",
   "metadata": {},
   "source": [
    "### 🟧Discussion 2.3: Interpret Principal Components\n",
    "\n",
    "**First component**\n",
    "\n",
    "The top 5 positive features for the first component are:\n",
    "* PLZ8_ANTG3: Number of 6-10 family houses in the PLZ8 region\n",
    "* WEALTH: Household wealth\n",
    "* PLZ8_ANTG4: Number of 10+ family houses in the PLZ8 region\n",
    "* PLZ8_BAUMAX: Most common building type within the PLZ8 region\n",
    "* HH_EINKOMMEN_SCORE: Estimated household net income\n",
    "\n",
    "The top 5 negative features for the first component are:\n",
    "* MOBI_REGIO: Movement patterns\n",
    "* KBA05_ANTG1: Number of 1-2 family houses in the microcell\n",
    "* PLZ8_ANTG1: Number of 1-2 family houses in the PLZ8 region\n",
    "* KBA05_GBZ: Number of buildings in the microcell\n",
    "* FINANZ_MINIMALIST: Financial typology ('low financial interst')\n",
    "\n",
    "These indicate that the first component captures population density and wealth.\n",
    "\n",
    "---\n",
    "**Second component**\n",
    "\n",
    "The top 5 positive features for the first component are:\n",
    "* ALTERSKATEGORIE_GROB: Estimated age\n",
    "* FINANZ_VORSORGER: Financial typology ('be prepared')\n",
    "* ZABEOTYP_3: Energy consumption typology ('fair supplied')\n",
    "* SEMIO_ERL: Personality typology ('event-oriented')\n",
    "* SEMIO_LUST: Personality typology ('sensual-minded')\n",
    "\n",
    "The top 5 negative features for the first component are:\n",
    "* DECADE: Decade of person's youth\n",
    "* FINANZ_SPARER: Financial typology ('money-saver')\n",
    "* SEMIO_REL: Personality typology ('religious')\n",
    "* FINANZ_UNAUFFAELLIGER: Number of buildings in the microcell\n",
    "* SEMIO_TRADV: Personality typology ('traditional-minded')\n",
    "\n",
    "These indicate that the second component captures the person's age and personality type (with an emphasis, perhaps, on their approach to personal finance).\n",
    "\n",
    "---\n",
    "**Third component**\n",
    "\n",
    "The top 5 positive features for the first component are:\n",
    "* SEMIO_VERT, SEMIO_SOZ, SEMIO_FAM, SEMIO_KULT: Personality type\n",
    "* FINANZ_MINIMALIST: Financial typology ('low financial interst')\n",
    "\n",
    "The top 5 negative features for the first component are:\n",
    "* ANREDE_KZ: Person's sex (male/female)\n",
    "* SEMIO_KAEM, SEMIO_DOM, SEMIO_KRIT, SEMIO_ERL: Personality type\n",
    "\n",
    "This component seems to capture similar information to the second component: the relationship between sex and personality."
   ]
  },
  {
   "cell_type": "markdown",
   "metadata": {},
   "source": [
    "## 🟥🟥🟥Step 3: Clustering\n",
    "\n",
    "### 🟥🟥Step 3.1: Apply Clustering to General Population\n",
    "\n",
    "You've assessed and cleaned the demographics data, then scaled and transformed them. Now, it's time to see how the data clusters in the principal components space. In this substep, you will apply k-means clustering to the dataset and use the average within-cluster distances from each point to their assigned cluster's centroid to decide on a number of clusters to keep.\n",
    "\n",
    "- Use sklearn's [KMeans](http://scikit-learn.org/stable/modules/generated/sklearn.cluster.KMeans.html#sklearn.cluster.KMeans) class to perform k-means clustering on the PCA-transformed data.\n",
    "- Then, compute the average difference from each point to its assigned cluster's center. **Hint**: The KMeans object's `.score()` method might be useful here, but note that in sklearn, scores tend to be defined so that larger is better. Try applying it to a small, toy dataset, or use an internet search to help your understanding.\n",
    "- Perform the above two steps for a number of different cluster counts. You can then see how the average distance decreases with an increasing number of clusters. However, each additional cluster provides a smaller net benefit. Use this fact to select a final number of clusters in which to group the data. **Warning**: because of the large size of the dataset, it can take a long time for the algorithm to resolve. The more clusters to fit, the longer the algorithm will take. You should test for cluster counts through at least 10 clusters to get the full picture, but you shouldn't need to test for a number of clusters above about 30.\n",
    "- Once you've selected a final number of clusters to use, re-fit a KMeans instance to perform the clustering operation. Make sure that you also obtain the cluster assignments for the general demographics data, since you'll be using them in the final Step 3.3."
   ]
  },
  {
   "cell_type": "code",
   "execution_count": null,
   "metadata": {},
   "outputs": [],
   "source": [
    "cluster_counts = np.arange(1, 16)\n",
    "scores = []\n",
    "\n",
    "# Over a number of different cluster counts...\n",
    "for k in cluster_counts:\n",
    "\n",
    "    # run k-means clustering on the data and...\n",
    "    kmeans = KMeans(n_clusters=k, random_state=42).fit(below_thresh_pca)\n",
    "    \n",
    "    # compute the average within-cluster distances.\n",
    "    scores.append(np.abs(kmeans.score(below_thresh_pca)))\n",
    "    "
   ]
  },
  {
   "cell_type": "code",
   "execution_count": null,
   "metadata": {},
   "outputs": [],
   "source": [
    "# Investigate the change in within-cluster distance across number of clusters.\n",
    "# HINT: Use matplotlib's plot function to visualize this relationship.\n",
    "\n",
    "plt.plot(cluster_counts, scores)\n",
    "plt.xlabel(\"Number of Clusters\")\n",
    "plt.ylabel(\"SSE\")\n",
    "plt.show()"
   ]
  },
  {
   "cell_type": "code",
   "execution_count": 105,
   "metadata": {},
   "outputs": [],
   "source": [
    "# Re-fit the k-means model with the selected number of clusters and obtain\n",
    "# cluster predictions for the general population demographics data.\n",
    "\n",
    "final_k = 6\n",
    "kmeans = KMeans(n_clusters=final_k, random_state=42).fit(below_thresh_pca)\n",
    "population_clusters = kmeans.predict(below_thresh_pca)"
   ]
  },
  {
   "cell_type": "markdown",
   "metadata": {},
   "source": [
    "### 🟧Discussion 3.1: Apply Clustering to General Population\n",
    "\n",
    "(Double-click this cell and replace this text with your own text, reporting your findings and decisions regarding clustering. Into how many clusters have you decided to segment the population?)\n",
    "\n",
    "From the scree plot, we can see that the average distance (SSE) decreases rapidly from 1 cluster to 2 clusters, then slows down from 2 to 6, then levels out until the end (14 clusters). Either 4 or 6 would make for a good cut-off point here, but I chose to go with k=6 since the dataset is quite large and our analysis could benefit from a couple more clusters."
   ]
  },
  {
   "cell_type": "markdown",
   "metadata": {},
   "source": [
    "### 🟥🟥Step 3.2: Apply All Steps to the Customer Data\n",
    "\n",
    "Now that you have clusters and cluster centers for the general population, it's time to see how the customer data maps on to those clusters. Take care to not confuse this for re-fitting all of the models to the customer data. Instead, you're going to use the fits from the general population to clean, transform, and cluster the customer data. In the last step of the project, you will interpret how the general population fits apply to the customer data.\n",
    "\n",
    "- Don't forget when loading in the customers data, that it is semicolon (`;`) delimited.\n",
    "- Apply the same feature wrangling, selection, and engineering steps to the customer demographics using the `clean_data()` function you created earlier. (You can assume that the customer demographics data has similar meaning behind missing data patterns as the general demographics data.)\n",
    "- Use the sklearn objects from the general demographics data, and apply their transformations to the customers data. That is, you should not be using a `.fit()` or `.fit_transform()` method to re-fit the old objects, nor should you be creating new sklearn objects! Carry the data through the feature scaling, PCA, and clustering steps, obtaining cluster assignments for all of the data in the customer demographics data."
   ]
  },
  {
   "cell_type": "code",
   "execution_count": 114,
   "metadata": {},
   "outputs": [],
   "source": [
    "# Reload feature info dataset\n",
    "feat_info = pd.read_csv(\"data/AZDIAS_Feature_Summary.csv\", delimiter=\";\")"
   ]
  },
  {
   "cell_type": "code",
   "execution_count": 133,
   "metadata": {},
   "outputs": [],
   "source": [
    "# Load in the customer demographics data.\n",
    "customers = pd.read_csv(\"data/Udacity_CUSTOMERS_Subset.csv\", delimiter=\";\")"
   ]
  },
  {
   "cell_type": "code",
   "execution_count": 134,
   "metadata": {},
   "outputs": [],
   "source": [
    "# Apply all pre-processing steps to the customer demographics dataset\n",
    "customers_clean = clean_data(customers)"
   ]
  },
  {
   "cell_type": "code",
   "execution_count": 135,
   "metadata": {},
   "outputs": [
    {
     "data": {
      "text/plain": [
       "38084     2.0\n",
       "41660     5.0\n",
       "42963     2.0\n",
       "75343     3.0\n",
       "84736     1.0\n",
       "126545    2.0\n",
       "142526    1.0\n",
       "147260    2.0\n",
       "152145    2.0\n",
       "166834    4.0\n",
       "190162    3.0\n",
       "Name: WEALTH, dtype: float64"
      ]
     },
     "execution_count": 135,
     "metadata": {},
     "output_type": "execute_result"
    }
   ],
   "source": [
    "customers_clean[\"WEALTH\"][~np.isnan(customers_clean[\"WEALTH\"])]"
   ]
  },
  {
   "cell_type": "code",
   "execution_count": 136,
   "metadata": {},
   "outputs": [],
   "source": [
    "# Drop nan columns created during one-hot encoding\n",
    "customers_clean = customers_clean.drop(columns=[\"TITEL_KZ_nan\", \"GEBAEUDETYP_nan\"])"
   ]
  },
  {
   "cell_type": "code",
   "execution_count": 137,
   "metadata": {},
   "outputs": [
    {
     "data": {
      "text/plain": [
       "38084     2.0\n",
       "41660     5.0\n",
       "42963     2.0\n",
       "75343     3.0\n",
       "84736     1.0\n",
       "126545    2.0\n",
       "142526    1.0\n",
       "147260    2.0\n",
       "152145    2.0\n",
       "166834    4.0\n",
       "190162    3.0\n",
       "Name: WEALTH, dtype: float64"
      ]
     },
     "execution_count": 137,
     "metadata": {},
     "output_type": "execute_result"
    }
   ],
   "source": [
    "customers_clean[\"WEALTH\"][~np.isnan(customers_clean[\"WEALTH\"])]"
   ]
  },
  {
   "cell_type": "code",
   "execution_count": 138,
   "metadata": {},
   "outputs": [],
   "source": [
    "# Add features that weren't added during one-hot encoding\n",
    "missing_cols = [c for c in below_thresh_scaled.columns if c not in customers_clean.columns]\n",
    "for c in missing_cols:\n",
    "    customers_clean[c] = 0  # fill the feature with 0s"
   ]
  },
  {
   "cell_type": "code",
   "execution_count": 139,
   "metadata": {},
   "outputs": [
    {
     "data": {
      "text/plain": [
       "38084     2.0\n",
       "41660     5.0\n",
       "42963     2.0\n",
       "75343     3.0\n",
       "84736     1.0\n",
       "126545    2.0\n",
       "142526    1.0\n",
       "147260    2.0\n",
       "152145    2.0\n",
       "166834    4.0\n",
       "190162    3.0\n",
       "Name: WEALTH, dtype: float64"
      ]
     },
     "execution_count": 139,
     "metadata": {},
     "output_type": "execute_result"
    }
   ],
   "source": [
    "customers_clean[\"WEALTH\"][~np.isnan(customers_clean[\"WEALTH\"])]"
   ]
  },
  {
   "cell_type": "code",
   "execution_count": 140,
   "metadata": {},
   "outputs": [
    {
     "name": "stdout",
     "output_type": "stream",
     "text": [
      "Columns before dropna: 180\n",
      "Number after dropna: 166\n"
     ]
    }
   ],
   "source": [
    "# Remove all columns that only have NaN values\n",
    "print(\"Columns before dropna: {}\".format(customers_clean.shape[1]))\n",
    "customers_clean = customers_clean.dropna(axis=1, how=\"all\")\n",
    "print(\"Columns after dropna: {}\".format(customers_clean.shape[1]))"
   ]
  },
  {
   "cell_type": "code",
   "execution_count": 141,
   "metadata": {},
   "outputs": [],
   "source": [
    "# Impute (replace) missing values\n",
    "imputed_data = SimpleImputer(strategy=\"most_frequent\").fit_transform(customers_clean)\n",
    "customers_clean = pd.DataFrame(data=imputed_data, columns=customers_clean.columns)"
   ]
  },
  {
   "cell_type": "markdown",
   "metadata": {},
   "source": [
    "### TODO: Scaling doesn't work because the scaler object expects the number of features of the dataset it was fitted on (population dataset: 180 features), but the customers dataset has 14 columns that contain only NaNs and those are removed by the imputer.  "
   ]
  },
  {
   "cell_type": "code",
   "execution_count": 142,
   "metadata": {},
   "outputs": [
    {
     "ename": "ValueError",
     "evalue": "X has 166 features, but this StandardScaler is expecting 180 features as input.",
     "output_type": "error",
     "traceback": [
      "\u001b[0;31m---------------------------------------------------------------------------\u001b[0m",
      "\u001b[0;31mValueError\u001b[0m                                Traceback (most recent call last)",
      "\u001b[0;32m<ipython-input-142-f4be87ecaa5f>\u001b[0m in \u001b[0;36m<module>\u001b[0;34m\u001b[0m\n\u001b[1;32m      1\u001b[0m \u001b[0;31m# Scale features\u001b[0m\u001b[0;34m\u001b[0m\u001b[0;34m\u001b[0m\u001b[0;34m\u001b[0m\u001b[0m\n\u001b[0;32m----> 2\u001b[0;31m \u001b[0mscaled_data\u001b[0m \u001b[0;34m=\u001b[0m \u001b[0mscaler\u001b[0m\u001b[0;34m.\u001b[0m\u001b[0mtransform\u001b[0m\u001b[0;34m(\u001b[0m\u001b[0mcustomers_clean\u001b[0m\u001b[0;34m)\u001b[0m\u001b[0;34m\u001b[0m\u001b[0;34m\u001b[0m\u001b[0m\n\u001b[0m\u001b[1;32m      3\u001b[0m \u001b[0mcustomers_scaled\u001b[0m \u001b[0;34m=\u001b[0m \u001b[0mpd\u001b[0m\u001b[0;34m.\u001b[0m\u001b[0mDataFrame\u001b[0m\u001b[0;34m(\u001b[0m\u001b[0mdata\u001b[0m\u001b[0;34m=\u001b[0m\u001b[0mscaled_data\u001b[0m\u001b[0;34m,\u001b[0m \u001b[0mcolumns\u001b[0m\u001b[0;34m=\u001b[0m\u001b[0mcustomers_clean\u001b[0m\u001b[0;34m.\u001b[0m\u001b[0mcolumns\u001b[0m\u001b[0;34m)\u001b[0m\u001b[0;34m\u001b[0m\u001b[0;34m\u001b[0m\u001b[0m\n",
      "\u001b[0;32m~/miniconda3/envs/udacity/lib/python3.8/site-packages/sklearn/preprocessing/_data.py\u001b[0m in \u001b[0;36mtransform\u001b[0;34m(self, X, copy)\u001b[0m\n\u001b[1;32m    789\u001b[0m \u001b[0;34m\u001b[0m\u001b[0m\n\u001b[1;32m    790\u001b[0m         \u001b[0mcopy\u001b[0m \u001b[0;34m=\u001b[0m \u001b[0mcopy\u001b[0m \u001b[0;32mif\u001b[0m \u001b[0mcopy\u001b[0m \u001b[0;32mis\u001b[0m \u001b[0;32mnot\u001b[0m \u001b[0;32mNone\u001b[0m \u001b[0;32melse\u001b[0m \u001b[0mself\u001b[0m\u001b[0;34m.\u001b[0m\u001b[0mcopy\u001b[0m\u001b[0;34m\u001b[0m\u001b[0;34m\u001b[0m\u001b[0m\n\u001b[0;32m--> 791\u001b[0;31m         X = self._validate_data(X, reset=False,\n\u001b[0m\u001b[1;32m    792\u001b[0m                                 \u001b[0maccept_sparse\u001b[0m\u001b[0;34m=\u001b[0m\u001b[0;34m'csr'\u001b[0m\u001b[0;34m,\u001b[0m \u001b[0mcopy\u001b[0m\u001b[0;34m=\u001b[0m\u001b[0mcopy\u001b[0m\u001b[0;34m,\u001b[0m\u001b[0;34m\u001b[0m\u001b[0;34m\u001b[0m\u001b[0m\n\u001b[1;32m    793\u001b[0m                                 \u001b[0mestimator\u001b[0m\u001b[0;34m=\u001b[0m\u001b[0mself\u001b[0m\u001b[0;34m,\u001b[0m \u001b[0mdtype\u001b[0m\u001b[0;34m=\u001b[0m\u001b[0mFLOAT_DTYPES\u001b[0m\u001b[0;34m,\u001b[0m\u001b[0;34m\u001b[0m\u001b[0;34m\u001b[0m\u001b[0m\n",
      "\u001b[0;32m~/miniconda3/envs/udacity/lib/python3.8/site-packages/sklearn/base.py\u001b[0m in \u001b[0;36m_validate_data\u001b[0;34m(self, X, y, reset, validate_separately, **check_params)\u001b[0m\n\u001b[1;32m    434\u001b[0m \u001b[0;34m\u001b[0m\u001b[0m\n\u001b[1;32m    435\u001b[0m         \u001b[0;32mif\u001b[0m \u001b[0mcheck_params\u001b[0m\u001b[0;34m.\u001b[0m\u001b[0mget\u001b[0m\u001b[0;34m(\u001b[0m\u001b[0;34m'ensure_2d'\u001b[0m\u001b[0;34m,\u001b[0m \u001b[0;32mTrue\u001b[0m\u001b[0;34m)\u001b[0m\u001b[0;34m:\u001b[0m\u001b[0;34m\u001b[0m\u001b[0;34m\u001b[0m\u001b[0m\n\u001b[0;32m--> 436\u001b[0;31m             \u001b[0mself\u001b[0m\u001b[0;34m.\u001b[0m\u001b[0m_check_n_features\u001b[0m\u001b[0;34m(\u001b[0m\u001b[0mX\u001b[0m\u001b[0;34m,\u001b[0m \u001b[0mreset\u001b[0m\u001b[0;34m=\u001b[0m\u001b[0mreset\u001b[0m\u001b[0;34m)\u001b[0m\u001b[0;34m\u001b[0m\u001b[0;34m\u001b[0m\u001b[0m\n\u001b[0m\u001b[1;32m    437\u001b[0m \u001b[0;34m\u001b[0m\u001b[0m\n\u001b[1;32m    438\u001b[0m         \u001b[0;32mreturn\u001b[0m \u001b[0mout\u001b[0m\u001b[0;34m\u001b[0m\u001b[0;34m\u001b[0m\u001b[0m\n",
      "\u001b[0;32m~/miniconda3/envs/udacity/lib/python3.8/site-packages/sklearn/base.py\u001b[0m in \u001b[0;36m_check_n_features\u001b[0;34m(self, X, reset)\u001b[0m\n\u001b[1;32m    375\u001b[0m                 )\n\u001b[1;32m    376\u001b[0m             \u001b[0;32mif\u001b[0m \u001b[0mn_features\u001b[0m \u001b[0;34m!=\u001b[0m \u001b[0mself\u001b[0m\u001b[0;34m.\u001b[0m\u001b[0mn_features_in_\u001b[0m\u001b[0;34m:\u001b[0m\u001b[0;34m\u001b[0m\u001b[0;34m\u001b[0m\u001b[0m\n\u001b[0;32m--> 377\u001b[0;31m                 raise ValueError(\n\u001b[0m\u001b[1;32m    378\u001b[0m                     \u001b[0;34m'X has {} features, but this {} is expecting {} features '\u001b[0m\u001b[0;34m\u001b[0m\u001b[0;34m\u001b[0m\u001b[0m\n\u001b[1;32m    379\u001b[0m                     'as input.'.format(n_features, self.__class__.__name__,\n",
      "\u001b[0;31mValueError\u001b[0m: X has 166 features, but this StandardScaler is expecting 180 features as input."
     ]
    }
   ],
   "source": [
    "# Scale features\n",
    "scaled_data = scaler.transform(customers_clean)\n",
    "customers_scaled = pd.DataFrame(data=scaled_data, columns=customers_clean.columns)"
   ]
  },
  {
   "cell_type": "code",
   "execution_count": null,
   "metadata": {},
   "outputs": [],
   "source": [
    "# Apply PCA\n",
    "customers_pca = pca.transform(customers_scaled)"
   ]
  },
  {
   "cell_type": "code",
   "execution_count": 108,
   "metadata": {},
   "outputs": [],
   "source": [
    "# Apply clustering\n",
    "customer_clusters = kmeans.predict(customers_pca)"
   ]
  },
  {
   "cell_type": "markdown",
   "metadata": {},
   "source": [
    "### 🟥🟥Step 3.3: Compare Customer Data to Demographics Data\n",
    "\n",
    "At this point, you have clustered data based on demographics of the general population of Germany, and seen how the customer data for a mail-order sales company maps onto those demographic clusters. In this final substep, you will compare the two cluster distributions to see where the strongest customer base for the company is.\n",
    "\n",
    "Consider the proportion of persons in each cluster for the general population, and the proportions for the customers. If we think the company's customer base to be universal, then the cluster assignment proportions should be fairly similar between the two. If there are only particular segments of the population that are interested in the company's products, then we should see a mismatch from one to the other. If there is a higher proportion of persons in a cluster for the customer data compared to the general population (e.g. 5% of persons are assigned to a cluster for the general population, but 15% of the customer data is closest to that cluster's centroid) then that suggests the people in that cluster to be a target audience for the company. On the other hand, the proportion of the data in a cluster being larger in the general population than the customer data (e.g. only 2% of customers closest to a population centroid that captures 6% of the data) suggests that group of persons to be outside of the target demographics.\n",
    "\n",
    "Take a look at the following points in this step:\n",
    "\n",
    "- Compute the proportion of data points in each cluster for the general population and the customer data. Visualizations will be useful here: both for the individual dataset proportions, but also to visualize the ratios in cluster representation between groups. Seaborn's [`countplot()`](https://seaborn.pydata.org/generated/seaborn.countplot.html) or [`barplot()`](https://seaborn.pydata.org/generated/seaborn.barplot.html) function could be handy.\n",
    "  - Recall the analysis you performed in step 1.1.3 of the project, where you separated out certain data points from the dataset if they had more than a specified threshold of missing values. If you found that this group was qualitatively different from the main bulk of the data, you should treat this as an additional data cluster in this analysis. Make sure that you account for the number of data points in this subset, for both the general population and customer datasets, when making your computations!\n",
    "- Which cluster or clusters are overrepresented in the customer dataset compared to the general population? Select at least one such cluster and infer what kind of people might be represented by that cluster. Use the principal component interpretations from step 2.3 or look at additional components to help you make this inference. Alternatively, you can use the `.inverse_transform()` method of the PCA and StandardScaler objects to transform centroids back to the original data space and interpret the retrieved values directly.\n",
    "- Perform a similar investigation for the underrepresented clusters. Which cluster or clusters are underrepresented in the customer dataset compared to the general population, and what kinds of people are typified by these clusters?"
   ]
  },
  {
   "cell_type": "code",
   "execution_count": 109,
   "metadata": {},
   "outputs": [
    {
     "data": {
      "image/png": "[encoded data removed]",
      "text/plain": [
       "<Figure size 921.6x691.2 with 2 Axes>"
      ]
     },
     "metadata": {
      "needs_background": "light"
     },
     "output_type": "display_data"
    }
   ],
   "source": [
    "# Compare the proportion of data in each cluster for the customer data \n",
    "# to the proportion of data in each cluster for the general population.\n",
    "\n",
    "# Store population and customer clusters in dataframes\n",
    "cust_cluster_df = pd.DataFrame(dict(cluster=customer_clusters))\n",
    "pop_cluster_df = pd.DataFrame(dict(cluster=population_clusters))\n",
    "\n",
    "# Draw bar plots for the general population clusters and the customer population clusters\n",
    "fig, ax = plt.subplots(1, 2, figsize=(12.8, 9.6))\n",
    "sns.barplot(x=\"cluster\", y=\"cluster\", data=pop_cluster_df, ax=ax[0], estimator=lambda x: len(x) / len(pop_cluster_df) * 100)\n",
    "sns.barplot(x=\"cluster\", y=\"cluster\", data=cust_cluster_df, ax=ax[1], estimator=lambda x: len(x) / len(cust_cluster_df) * 100)\n",
    "\n",
    "ax[0].set_yticks(np.arange(0, 101, 20))\n",
    "ax[1].set_yticks(np.arange(0, 101, 20))\n",
    "\n",
    "ax[0].set(title=\"General Population\")\n",
    "ax[1].set(title=\"Customer Population\")\n",
    "ax[0].set(ylabel=\"proportion (%)\")\n",
    "ax[1].set(ylabel=\"proportion (%)\")\n",
    "\n",
    "fig.tight_layout(pad=3.0)\n",
    "fig.show()"
   ]
  },
  {
   "cell_type": "code",
   "execution_count": 145,
   "metadata": {},
   "outputs": [],
   "source": [
    "# What kinds of people are part of a cluster that is overrepresented in the\n",
    "# customer data compared to the general population?\n",
    "\n"
   ]
  },
  {
   "cell_type": "code",
   "execution_count": null,
   "metadata": {},
   "outputs": [],
   "source": [
    "# What kinds of people are part of a cluster that is underrepresented in the\n",
    "# customer data compared to the general population?\n",
    "\n"
   ]
  },
  {
   "cell_type": "markdown",
   "metadata": {},
   "source": [
    "### 🟧Discussion 3.3: Compare Customer Data to Demographics Data\n",
    "\n",
    "(Double-click this cell and replace this text with your own text, reporting findings and conclusions from the clustering analysis. Can we describe segments of the population that are relatively popular with the mail-order company, or relatively unpopular with the company?)"
   ]
  },
  {
   "cell_type": "markdown",
   "metadata": {},
   "source": [
    "> Congratulations on making it this far in the project! Before you finish, make sure to check through the entire notebook from top to bottom to make sure that your analysis follows a logical flow and all of your findings are documented in **Discussion** cells. Once you've checked over all of your work, you should export the notebook as an HTML document to submit for evaluation. You can do this from the menu, navigating to **File -> Download as -> HTML (.html)**. You will submit both that document and this notebook for your project submission."
   ]
  },
  {
   "cell_type": "code",
   "execution_count": null,
   "metadata": {},
   "outputs": [],
   "source": []
  }
 ],
 "metadata": {
  "kernelspec": {
   "display_name": "Python 3",
   "language": "python",
   "name": "python3"
  },
  "language_info": {
   "codemirror_mode": {
    "name": "ipython",
    "version": 3
   },
   "file_extension": ".py",
   "mimetype": "text/x-python",
   "name": "python",
   "nbconvert_exporter": "python",
   "pygments_lexer": "ipython3",
   "version": "3.8.3"
  }
 },
 "nbformat": 4,
 "nbformat_minor": 4
}
